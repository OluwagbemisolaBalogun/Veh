{
 "cells": [
  {
   "cell_type": "code",
   "execution_count": 1,
   "id": "09ad608d",
   "metadata": {},
   "outputs": [],
   "source": [
    "import pandas as pd\n",
    "import numpy as np\n",
    "import matplotlib.pyplot as plt\n",
    "import seaborn as sns\n",
    "from sklearn.linear_model import LinearRegression\n",
    "from sklearn.ensemble import ExtraTreesRegressor\n",
    "from sklearn.preprocessing import StandardScaler\n",
    "from sklearn.model_selection import train_test_split\n",
    "from sklearn.ensemble import RandomForestRegressor\n",
    "from sklearn import metrics\n",
    "from sklearn.metrics import r2_score\n",
    "from sklearn.preprocessing import OneHotEncoder\n",
    "from sklearn.linear_model import Ridge\n",
    "from sklearn.linear_model import Lasso"
   ]
  },
  {
   "cell_type": "markdown",
   "id": "fd83666b",
   "metadata": {},
   "source": [
    "## **0. Introduction**\n",
    "\n",
    "**VehicleTrader-Regression: Machine Learning on sales** is a regression project kernel which focuses on **Data understanding**, **Data exploration and preparation**, **Data cleaning and preparation** and **Models building and evaluation**.\n",
    "\n",
    "**VehicleTrader-Dataset** is a great dataset to apply domain knowledge for feature engineering, so I made a research and learned a lot about the AutoTrader company. I was able to access the UK website (https://www.autotrader.co.uk/) and discovered they deal in a variety of vehicles from new to old, and even exotic to regular, they are also into body types ranging between Cars, Luxury cars, Vans, Bikes, Motorhomes, Caravans and Trucks. \n",
    "\n",
    "With over 430k vehicles on the UK version I tried to find out some of those links between the columns and factors that had pricing of vehicles, also discovering that individuals are also allowed to post their listings on the platform. \n"
   ]
  },
  {
   "cell_type": "markdown",
   "id": "8e50ad66",
   "metadata": {},
   "source": [
    "###  **1. Understanding data columns**\n",
    "\n",
    "* `public_reference` Unable to get actionable information on this variable\n",
    "* `reg_code` Unable to get actionable information on this variable\n",
    "* `mileage` Distance the vehicle has travelled throughout it's lifetime in miles (Lower is usually better)\n",
    "* `standard_colour` Body paint color of vehicle at time of sale (5-total)\n",
    "    - **Grey**\n",
    "    - **Blue**\n",
    "    - **Black**\n",
    "    - **Silver**\n",
    "    - **White**\n",
    "* `standard_make` Manufacturer name of vehicle (11-total).\n",
    "\n",
    "['MINI', 'Volkswagen', 'Mercedes-Benz', 'Vauxhall', 'Nissan',\n",
    "       'Toyota', 'Audi', 'Renault', 'BMW', 'Fiat', 'Kia']\n",
    "* `standard_model` Model name as stated by manufacturer for target vehicle (19-total).\n",
    "['Hatch', 'Golf', 'C Class', 'Corsa', 'Qashqai', 'Yaris', 'Polo',\n",
    "       'Astra', 'A1', 'E Class', 'Clio', 'A Class', '5 Series',\n",
    "       '1 Series', '500', 'A3', 'Sportage', '3 Series', 'Juke']\n",
    "* `vehicle_condition` Whether vehicle has had a prior owner or not, all vehicles in dataset are used.\n",
    "    - **USED**\n",
    "* `year_of_registration` Year of first registration of vehicle.\n",
    "* `body_type` body shape of vehicle in question.\n",
    "    - **Hatchback**\n",
    "    - **Estate**\n",
    "    - **Saloon**\n",
    "    - **SUV**\n",
    "    - **Coupe**\n",
    "* `crossover_car_and_van` If car is a crossover or a van type vehicle:\n",
    "    - **False**\n",
    "* `fuel_type` (Fuel type) describes what type of fuel that propels the vehicle (**Fuel**, **Diesel**).\n",
    "* `make_model` A combination of the make and model columns\n",
    "* `age` An extrapolation from the registration date, (Current year - Reg year)."
   ]
  },
  {
   "cell_type": "markdown",
   "id": "fdf499a9",
   "metadata": {},
   "source": [
    "### **2. Data Exploration and Preparation**"
   ]
  },
  {
   "cell_type": "code",
   "execution_count": 2,
   "id": "39b6b740",
   "metadata": {},
   "outputs": [
    {
     "data": {
      "text/html": [
       "<div>\n",
       "<style scoped>\n",
       "    .dataframe tbody tr th:only-of-type {\n",
       "        vertical-align: middle;\n",
       "    }\n",
       "\n",
       "    .dataframe tbody tr th {\n",
       "        vertical-align: top;\n",
       "    }\n",
       "\n",
       "    .dataframe thead th {\n",
       "        text-align: right;\n",
       "    }\n",
       "</style>\n",
       "<table border=\"1\" class=\"dataframe\">\n",
       "  <thead>\n",
       "    <tr style=\"text-align: right;\">\n",
       "      <th></th>\n",
       "      <th>public_reference</th>\n",
       "      <th>mileage</th>\n",
       "      <th>reg_code</th>\n",
       "      <th>standard_colour</th>\n",
       "      <th>standard_make</th>\n",
       "      <th>standard_model</th>\n",
       "      <th>vehicle_condition</th>\n",
       "      <th>year_of_registration</th>\n",
       "      <th>price</th>\n",
       "      <th>body_type</th>\n",
       "      <th>crossover_car_and_van</th>\n",
       "      <th>fuel_type</th>\n",
       "      <th>make_model</th>\n",
       "      <th>age</th>\n",
       "    </tr>\n",
       "  </thead>\n",
       "  <tbody>\n",
       "    <tr>\n",
       "      <th>0</th>\n",
       "      <td>202010014440649</td>\n",
       "      <td>31534.0</td>\n",
       "      <td>17</td>\n",
       "      <td>Grey</td>\n",
       "      <td>MINI</td>\n",
       "      <td>Hatch</td>\n",
       "      <td>USED</td>\n",
       "      <td>2017.0</td>\n",
       "      <td>19000</td>\n",
       "      <td>Hatchback</td>\n",
       "      <td>False</td>\n",
       "      <td>Petrol</td>\n",
       "      <td>MINI - Hatch</td>\n",
       "      <td>5</td>\n",
       "    </tr>\n",
       "    <tr>\n",
       "      <th>1</th>\n",
       "      <td>202010155026725</td>\n",
       "      <td>52023.0</td>\n",
       "      <td>66</td>\n",
       "      <td>Blue</td>\n",
       "      <td>Volkswagen</td>\n",
       "      <td>Golf</td>\n",
       "      <td>USED</td>\n",
       "      <td>2016.0</td>\n",
       "      <td>13500</td>\n",
       "      <td>Estate</td>\n",
       "      <td>False</td>\n",
       "      <td>Diesel</td>\n",
       "      <td>Volkswagen - Golf</td>\n",
       "      <td>6</td>\n",
       "    </tr>\n",
       "    <tr>\n",
       "      <th>2</th>\n",
       "      <td>202008142485309</td>\n",
       "      <td>29500.0</td>\n",
       "      <td>12</td>\n",
       "      <td>Grey</td>\n",
       "      <td>Mercedes-Benz</td>\n",
       "      <td>C Class</td>\n",
       "      <td>USED</td>\n",
       "      <td>2012.0</td>\n",
       "      <td>9495</td>\n",
       "      <td>Saloon</td>\n",
       "      <td>False</td>\n",
       "      <td>Petrol</td>\n",
       "      <td>Mercedes-Benz - C Class</td>\n",
       "      <td>10</td>\n",
       "    </tr>\n",
       "    <tr>\n",
       "      <th>3</th>\n",
       "      <td>202009183894045</td>\n",
       "      <td>35300.0</td>\n",
       "      <td>18</td>\n",
       "      <td>Grey</td>\n",
       "      <td>Vauxhall</td>\n",
       "      <td>Corsa</td>\n",
       "      <td>USED</td>\n",
       "      <td>2018.0</td>\n",
       "      <td>7293</td>\n",
       "      <td>Hatchback</td>\n",
       "      <td>False</td>\n",
       "      <td>Petrol</td>\n",
       "      <td>Vauxhall - Corsa</td>\n",
       "      <td>4</td>\n",
       "    </tr>\n",
       "    <tr>\n",
       "      <th>4</th>\n",
       "      <td>202010014441671</td>\n",
       "      <td>47299.0</td>\n",
       "      <td>65</td>\n",
       "      <td>Black</td>\n",
       "      <td>Nissan</td>\n",
       "      <td>Qashqai</td>\n",
       "      <td>USED</td>\n",
       "      <td>2016.0</td>\n",
       "      <td>11500</td>\n",
       "      <td>SUV</td>\n",
       "      <td>False</td>\n",
       "      <td>Diesel</td>\n",
       "      <td>Nissan - Qashqai</td>\n",
       "      <td>6</td>\n",
       "    </tr>\n",
       "    <tr>\n",
       "      <th>...</th>\n",
       "      <td>...</td>\n",
       "      <td>...</td>\n",
       "      <td>...</td>\n",
       "      <td>...</td>\n",
       "      <td>...</td>\n",
       "      <td>...</td>\n",
       "      <td>...</td>\n",
       "      <td>...</td>\n",
       "      <td>...</td>\n",
       "      <td>...</td>\n",
       "      <td>...</td>\n",
       "      <td>...</td>\n",
       "      <td>...</td>\n",
       "      <td>...</td>\n",
       "    </tr>\n",
       "    <tr>\n",
       "      <th>96264</th>\n",
       "      <td>202010295556637</td>\n",
       "      <td>28225.0</td>\n",
       "      <td>17</td>\n",
       "      <td>White</td>\n",
       "      <td>Mercedes-Benz</td>\n",
       "      <td>C Class</td>\n",
       "      <td>USED</td>\n",
       "      <td>2017.0</td>\n",
       "      <td>18499</td>\n",
       "      <td>Saloon</td>\n",
       "      <td>False</td>\n",
       "      <td>Diesel</td>\n",
       "      <td>Mercedes-Benz - C Class</td>\n",
       "      <td>5</td>\n",
       "    </tr>\n",
       "    <tr>\n",
       "      <th>96265</th>\n",
       "      <td>202010305614799</td>\n",
       "      <td>122000.0</td>\n",
       "      <td>07</td>\n",
       "      <td>Silver</td>\n",
       "      <td>BMW</td>\n",
       "      <td>3 Series</td>\n",
       "      <td>USED</td>\n",
       "      <td>2007.0</td>\n",
       "      <td>1990</td>\n",
       "      <td>Saloon</td>\n",
       "      <td>False</td>\n",
       "      <td>Petrol</td>\n",
       "      <td>BMW - 3 Series</td>\n",
       "      <td>15</td>\n",
       "    </tr>\n",
       "    <tr>\n",
       "      <th>96266</th>\n",
       "      <td>202010315639231</td>\n",
       "      <td>45000.0</td>\n",
       "      <td>15</td>\n",
       "      <td>Silver</td>\n",
       "      <td>Vauxhall</td>\n",
       "      <td>Corsa</td>\n",
       "      <td>USED</td>\n",
       "      <td>2015.0</td>\n",
       "      <td>5000</td>\n",
       "      <td>Hatchback</td>\n",
       "      <td>False</td>\n",
       "      <td>Petrol</td>\n",
       "      <td>Vauxhall - Corsa</td>\n",
       "      <td>7</td>\n",
       "    </tr>\n",
       "    <tr>\n",
       "      <th>96267</th>\n",
       "      <td>202010315647416</td>\n",
       "      <td>4075.0</td>\n",
       "      <td>69</td>\n",
       "      <td>Grey</td>\n",
       "      <td>Nissan</td>\n",
       "      <td>Juke</td>\n",
       "      <td>USED</td>\n",
       "      <td>2019.0</td>\n",
       "      <td>18000</td>\n",
       "      <td>SUV</td>\n",
       "      <td>False</td>\n",
       "      <td>Petrol</td>\n",
       "      <td>Nissan - Juke</td>\n",
       "      <td>3</td>\n",
       "    </tr>\n",
       "    <tr>\n",
       "      <th>96268</th>\n",
       "      <td>202010315659271</td>\n",
       "      <td>52760.0</td>\n",
       "      <td>62</td>\n",
       "      <td>White</td>\n",
       "      <td>Nissan</td>\n",
       "      <td>Qashqai</td>\n",
       "      <td>USED</td>\n",
       "      <td>2012.0</td>\n",
       "      <td>7250</td>\n",
       "      <td>SUV</td>\n",
       "      <td>False</td>\n",
       "      <td>Petrol</td>\n",
       "      <td>Nissan - Qashqai</td>\n",
       "      <td>10</td>\n",
       "    </tr>\n",
       "  </tbody>\n",
       "</table>\n",
       "<p>96269 rows × 14 columns</p>\n",
       "</div>"
      ],
      "text/plain": [
       "       public_reference   mileage reg_code standard_colour  standard_make  \\\n",
       "0       202010014440649   31534.0       17            Grey           MINI   \n",
       "1       202010155026725   52023.0       66            Blue     Volkswagen   \n",
       "2       202008142485309   29500.0       12            Grey  Mercedes-Benz   \n",
       "3       202009183894045   35300.0       18            Grey       Vauxhall   \n",
       "4       202010014441671   47299.0       65           Black         Nissan   \n",
       "...                 ...       ...      ...             ...            ...   \n",
       "96264   202010295556637   28225.0       17           White  Mercedes-Benz   \n",
       "96265   202010305614799  122000.0       07          Silver            BMW   \n",
       "96266   202010315639231   45000.0       15          Silver       Vauxhall   \n",
       "96267   202010315647416    4075.0       69            Grey         Nissan   \n",
       "96268   202010315659271   52760.0       62           White         Nissan   \n",
       "\n",
       "      standard_model vehicle_condition  year_of_registration  price  \\\n",
       "0              Hatch              USED                2017.0  19000   \n",
       "1               Golf              USED                2016.0  13500   \n",
       "2            C Class              USED                2012.0   9495   \n",
       "3              Corsa              USED                2018.0   7293   \n",
       "4            Qashqai              USED                2016.0  11500   \n",
       "...              ...               ...                   ...    ...   \n",
       "96264        C Class              USED                2017.0  18499   \n",
       "96265       3 Series              USED                2007.0   1990   \n",
       "96266          Corsa              USED                2015.0   5000   \n",
       "96267           Juke              USED                2019.0  18000   \n",
       "96268        Qashqai              USED                2012.0   7250   \n",
       "\n",
       "       body_type  crossover_car_and_van fuel_type               make_model  \\\n",
       "0      Hatchback                  False    Petrol             MINI - Hatch   \n",
       "1         Estate                  False    Diesel        Volkswagen - Golf   \n",
       "2         Saloon                  False    Petrol  Mercedes-Benz - C Class   \n",
       "3      Hatchback                  False    Petrol         Vauxhall - Corsa   \n",
       "4            SUV                  False    Diesel         Nissan - Qashqai   \n",
       "...          ...                    ...       ...                      ...   \n",
       "96264     Saloon                  False    Diesel  Mercedes-Benz - C Class   \n",
       "96265     Saloon                  False    Petrol           BMW - 3 Series   \n",
       "96266  Hatchback                  False    Petrol         Vauxhall - Corsa   \n",
       "96267        SUV                  False    Petrol            Nissan - Juke   \n",
       "96268        SUV                  False    Petrol         Nissan - Qashqai   \n",
       "\n",
       "       age  \n",
       "0        5  \n",
       "1        6  \n",
       "2       10  \n",
       "3        4  \n",
       "4        6  \n",
       "...    ...  \n",
       "96264    5  \n",
       "96265   15  \n",
       "96266    7  \n",
       "96267    3  \n",
       "96268   10  \n",
       "\n",
       "[96269 rows x 14 columns]"
      ]
     },
     "execution_count": 2,
     "metadata": {},
     "output_type": "execute_result"
    }
   ],
   "source": [
    "data = pd.read_csv(\"vehicle_trade_data.csv\")\n",
    "data"
   ]
  },
  {
   "cell_type": "code",
   "execution_count": 3,
   "id": "7f63f524",
   "metadata": {},
   "outputs": [
    {
     "name": "stdout",
     "output_type": "stream",
     "text": [
      "<class 'pandas.core.frame.DataFrame'>\n",
      "RangeIndex: 96269 entries, 0 to 96268\n",
      "Data columns (total 14 columns):\n",
      " #   Column                 Non-Null Count  Dtype  \n",
      "---  ------                 --------------  -----  \n",
      " 0   public_reference       96269 non-null  int64  \n",
      " 1   mileage                96247 non-null  float64\n",
      " 2   reg_code               96257 non-null  object \n",
      " 3   standard_colour        96269 non-null  object \n",
      " 4   standard_make          96269 non-null  object \n",
      " 5   standard_model         96269 non-null  object \n",
      " 6   vehicle_condition      96269 non-null  object \n",
      " 7   year_of_registration   96269 non-null  float64\n",
      " 8   price                  96269 non-null  int64  \n",
      " 9   body_type              96269 non-null  object \n",
      " 10  crossover_car_and_van  96269 non-null  bool   \n",
      " 11  fuel_type              96269 non-null  object \n",
      " 12  make_model             96269 non-null  object \n",
      " 13  age                    96269 non-null  int64  \n",
      "dtypes: bool(1), float64(2), int64(3), object(8)\n",
      "memory usage: 9.6+ MB\n"
     ]
    }
   ],
   "source": [
    "data.info()"
   ]
  },
  {
   "cell_type": "markdown",
   "id": "e337c5f1",
   "metadata": {},
   "source": [
    "### **2.1 Quantitative and qualitative data**\n",
    "\n",
    "We shall proceed to look at statistics of both the `qualitative` and `numeric` values in order to further appreciate the data.\n",
    "\n",
    "#### 2.1.1 Quantitative\n",
    "\n",
    "- `Mileage` has a total of 96247 non null entries which is short of the grand total of the entire dataset indicating the prescence of missing values and carries metrics as follows:\n",
    "  - `Average Mileage` = 42964.06\n",
    "  - `Max Mileage`     = 999999\n",
    "  - `S-Deviation`     = 34051.70\n",
    "\n",
    "  <em>`Mileage has outliers which would have to be handled.`</em>\n",
    "  \n",
    "- `Year Of Reg.` has a total of 96269 non null entries, meaning no missing values and carries metrics as follows:\n",
    "  - `Average Year` = 2015\n",
    "  - `Max Year`     = 2020\n",
    "  - `S-Deviation` = 3.7\n",
    "\n",
    "- `Age` has a total of 96269 non null entries, meaning no missing values and carries metrics as follows:\n",
    "  - `Average Age` = 6.9\n",
    "  - `Max Age`     = 60.0\n",
    "  - `S-Deviation` = 3.7\n",
    "\n",
    "<em>`Year of registration and Age can be seen to have the same S-deviation signaling a possibility that the one is an extrapolation from the other.`</em>\n",
    "\n",
    "#### 2.1.2 Qualitative\n",
    "\n",
    "Firstly all qualitative columns except for `reg_code` have a total of 96269 each, meaning they are largely concise and with no missing data.\n",
    "\n",
    "- `Standard Color` metrics as follows: \n",
    "  - `Most Occurent` = Black\n",
    "  - `Percentage`    = 27.5%\n",
    "\n",
    "- `Standard Make` metrics as follows:\n",
    "  - `Most Occurent` = BMW\n",
    "  - `Percentage`    = 17.2%\n",
    "  \n",
    "  - `Standard Model` metrics as follows:\n",
    "  - `Most Occurent` = Golf\n",
    "  - `Percentage`    = 9.3%\n",
    "\n",
    "- `Vehicle Condition` Contains only USED only\n",
    "\n",
    "- `Body Type` metrics as follows:\n",
    "  - `Most Occurent` = Hatchback\n",
    "  - `Percentage`    = 61.5%\n",
    "\n",
    "- `Fuel Type` metrics as follows:\n",
    "  - `Most Occurent` = Petrol\n",
    "  - `Percentage`    = 56.9%"
   ]
  },
  {
   "cell_type": "code",
   "execution_count": 4,
   "id": "e311ba01",
   "metadata": {},
   "outputs": [
    {
     "data": {
      "text/html": [
       "<div>\n",
       "<style scoped>\n",
       "    .dataframe tbody tr th:only-of-type {\n",
       "        vertical-align: middle;\n",
       "    }\n",
       "\n",
       "    .dataframe tbody tr th {\n",
       "        vertical-align: top;\n",
       "    }\n",
       "\n",
       "    .dataframe thead th {\n",
       "        text-align: right;\n",
       "    }\n",
       "</style>\n",
       "<table border=\"1\" class=\"dataframe\">\n",
       "  <thead>\n",
       "    <tr style=\"text-align: right;\">\n",
       "      <th></th>\n",
       "      <th>public_reference</th>\n",
       "      <th>mileage</th>\n",
       "      <th>year_of_registration</th>\n",
       "      <th>price</th>\n",
       "      <th>age</th>\n",
       "    </tr>\n",
       "  </thead>\n",
       "  <tbody>\n",
       "    <tr>\n",
       "      <th>count</th>\n",
       "      <td>9.626900e+04</td>\n",
       "      <td>96247.000000</td>\n",
       "      <td>96269.000000</td>\n",
       "      <td>96269.000000</td>\n",
       "      <td>96269.000000</td>\n",
       "    </tr>\n",
       "    <tr>\n",
       "      <th>mean</th>\n",
       "      <td>2.020082e+14</td>\n",
       "      <td>42964.067150</td>\n",
       "      <td>2015.096075</td>\n",
       "      <td>12266.081615</td>\n",
       "      <td>6.903925</td>\n",
       "    </tr>\n",
       "    <tr>\n",
       "      <th>std</th>\n",
       "      <td>1.194558e+10</td>\n",
       "      <td>34051.708175</td>\n",
       "      <td>3.766205</td>\n",
       "      <td>7414.823331</td>\n",
       "      <td>3.766205</td>\n",
       "    </tr>\n",
       "    <tr>\n",
       "      <th>min</th>\n",
       "      <td>2.014120e+14</td>\n",
       "      <td>0.000000</td>\n",
       "      <td>1962.000000</td>\n",
       "      <td>200.000000</td>\n",
       "      <td>2.000000</td>\n",
       "    </tr>\n",
       "    <tr>\n",
       "      <th>25%</th>\n",
       "      <td>2.020091e+14</td>\n",
       "      <td>17000.000000</td>\n",
       "      <td>2013.000000</td>\n",
       "      <td>6999.000000</td>\n",
       "      <td>4.000000</td>\n",
       "    </tr>\n",
       "    <tr>\n",
       "      <th>50%</th>\n",
       "      <td>2.020100e+14</td>\n",
       "      <td>34352.000000</td>\n",
       "      <td>2016.000000</td>\n",
       "      <td>11030.000000</td>\n",
       "      <td>6.000000</td>\n",
       "    </tr>\n",
       "    <tr>\n",
       "      <th>75%</th>\n",
       "      <td>2.020102e+14</td>\n",
       "      <td>62000.000000</td>\n",
       "      <td>2018.000000</td>\n",
       "      <td>15999.000000</td>\n",
       "      <td>9.000000</td>\n",
       "    </tr>\n",
       "    <tr>\n",
       "      <th>max</th>\n",
       "      <td>2.020110e+14</td>\n",
       "      <td>999999.000000</td>\n",
       "      <td>2020.000000</td>\n",
       "      <td>158500.000000</td>\n",
       "      <td>60.000000</td>\n",
       "    </tr>\n",
       "  </tbody>\n",
       "</table>\n",
       "</div>"
      ],
      "text/plain": [
       "       public_reference        mileage  year_of_registration          price  \\\n",
       "count      9.626900e+04   96247.000000          96269.000000   96269.000000   \n",
       "mean       2.020082e+14   42964.067150           2015.096075   12266.081615   \n",
       "std        1.194558e+10   34051.708175              3.766205    7414.823331   \n",
       "min        2.014120e+14       0.000000           1962.000000     200.000000   \n",
       "25%        2.020091e+14   17000.000000           2013.000000    6999.000000   \n",
       "50%        2.020100e+14   34352.000000           2016.000000   11030.000000   \n",
       "75%        2.020102e+14   62000.000000           2018.000000   15999.000000   \n",
       "max        2.020110e+14  999999.000000           2020.000000  158500.000000   \n",
       "\n",
       "                age  \n",
       "count  96269.000000  \n",
       "mean       6.903925  \n",
       "std        3.766205  \n",
       "min        2.000000  \n",
       "25%        4.000000  \n",
       "50%        6.000000  \n",
       "75%        9.000000  \n",
       "max       60.000000  "
      ]
     },
     "execution_count": 4,
     "metadata": {},
     "output_type": "execute_result"
    }
   ],
   "source": [
    "data.describe()"
   ]
  },
  {
   "cell_type": "code",
   "execution_count": 5,
   "id": "96932c60",
   "metadata": {},
   "outputs": [
    {
     "data": {
      "text/html": [
       "<div>\n",
       "<style scoped>\n",
       "    .dataframe tbody tr th:only-of-type {\n",
       "        vertical-align: middle;\n",
       "    }\n",
       "\n",
       "    .dataframe tbody tr th {\n",
       "        vertical-align: top;\n",
       "    }\n",
       "\n",
       "    .dataframe thead th {\n",
       "        text-align: right;\n",
       "    }\n",
       "</style>\n",
       "<table border=\"1\" class=\"dataframe\">\n",
       "  <thead>\n",
       "    <tr style=\"text-align: right;\">\n",
       "      <th></th>\n",
       "      <th>reg_code</th>\n",
       "      <th>standard_colour</th>\n",
       "      <th>standard_make</th>\n",
       "      <th>standard_model</th>\n",
       "      <th>vehicle_condition</th>\n",
       "      <th>body_type</th>\n",
       "      <th>fuel_type</th>\n",
       "      <th>make_model</th>\n",
       "    </tr>\n",
       "  </thead>\n",
       "  <tbody>\n",
       "    <tr>\n",
       "      <th>count</th>\n",
       "      <td>96257</td>\n",
       "      <td>96269</td>\n",
       "      <td>96269</td>\n",
       "      <td>96269</td>\n",
       "      <td>96269</td>\n",
       "      <td>96269</td>\n",
       "      <td>96269</td>\n",
       "      <td>96269</td>\n",
       "    </tr>\n",
       "    <tr>\n",
       "      <th>unique</th>\n",
       "      <td>58</td>\n",
       "      <td>5</td>\n",
       "      <td>11</td>\n",
       "      <td>19</td>\n",
       "      <td>1</td>\n",
       "      <td>5</td>\n",
       "      <td>2</td>\n",
       "      <td>19</td>\n",
       "    </tr>\n",
       "    <tr>\n",
       "      <th>top</th>\n",
       "      <td>17</td>\n",
       "      <td>Black</td>\n",
       "      <td>BMW</td>\n",
       "      <td>Golf</td>\n",
       "      <td>USED</td>\n",
       "      <td>Hatchback</td>\n",
       "      <td>Petrol</td>\n",
       "      <td>Volkswagen - Golf</td>\n",
       "    </tr>\n",
       "    <tr>\n",
       "      <th>freq</th>\n",
       "      <td>10218</td>\n",
       "      <td>26479</td>\n",
       "      <td>16585</td>\n",
       "      <td>8975</td>\n",
       "      <td>96269</td>\n",
       "      <td>59227</td>\n",
       "      <td>54805</td>\n",
       "      <td>8975</td>\n",
       "    </tr>\n",
       "  </tbody>\n",
       "</table>\n",
       "</div>"
      ],
      "text/plain": [
       "       reg_code standard_colour standard_make standard_model  \\\n",
       "count     96257           96269         96269          96269   \n",
       "unique       58               5            11             19   \n",
       "top          17           Black           BMW           Golf   \n",
       "freq      10218           26479         16585           8975   \n",
       "\n",
       "       vehicle_condition  body_type fuel_type         make_model  \n",
       "count              96269      96269     96269              96269  \n",
       "unique                 1          5         2                 19  \n",
       "top                 USED  Hatchback    Petrol  Volkswagen - Golf  \n",
       "freq               96269      59227     54805               8975  "
      ]
     },
     "execution_count": 5,
     "metadata": {},
     "output_type": "execute_result"
    }
   ],
   "source": [
    "data.describe(include=[\"O\"])"
   ]
  },
  {
   "cell_type": "code",
   "execution_count": 6,
   "id": "01c68ed3",
   "metadata": {},
   "outputs": [
    {
     "data": {
      "text/plain": [
       "array(['Grey', 'Blue', 'Black', 'Silver', 'White'], dtype=object)"
      ]
     },
     "execution_count": 6,
     "metadata": {},
     "output_type": "execute_result"
    }
   ],
   "source": [
    "data.standard_colour.unique()"
   ]
  },
  {
   "cell_type": "markdown",
   "id": "4631729b",
   "metadata": {},
   "source": [
    "## Plotting a heat map to analyze the data\n",
    "\n",
    "Now let’s plot Heatmap which is pretty useful to visualise multiple correlations among numerical variables. We have also used the Target variable “Price” to understand the correlation of numerical variables with it."
   ]
  },
  {
   "cell_type": "code",
   "execution_count": 7,
   "id": "d5fcff2b",
   "metadata": {},
   "outputs": [
    {
     "data": {
      "text/plain": [
       "<AxesSubplot:>"
      ]
     },
     "execution_count": 7,
     "metadata": {},
     "output_type": "execute_result"
    },
    {
     "data": {
      "image/png": "[encoded data removed]",
      "text/plain": [
       "<Figure size 792x648 with 2 Axes>"
      ]
     },
     "metadata": {},
     "output_type": "display_data"
    }
   ],
   "source": [
    "sns.set_theme(style=\"white\")\n",
    "rs = np.random.RandomState(33)\n",
    "d = pd.DataFrame(data=rs.normal(size=(100, 14)),\n",
    "                 columns=list(data))\n",
    "corr = d.corr()\n",
    "mask = np.triu(np.ones_like(corr, dtype=bool))\n",
    "f, ax = plt.subplots(figsize=(11, 9))\n",
    "cmap = sns.diverging_palette(230, 20, as_cmap=True)\n",
    "sns.heatmap(corr, mask=mask, cmap=cmap, vmax=.3, center=0,\n",
    "            square=True, linewidths=.5, cbar_kws={\"shrink\": .5})"
   ]
  },
  {
   "cell_type": "code",
   "execution_count": 8,
   "id": "f24f18f7",
   "metadata": {},
   "outputs": [
    {
     "data": {
      "image/png": "[encoded data removed]",
      "text/plain": [
       "<Figure size 360x360 with 2 Axes>"
      ]
     },
     "metadata": {},
     "output_type": "display_data"
    }
   ],
   "source": [
    "corrmat=data.corr()\n",
    "top_corr_features=corrmat.index\n",
    "plt.figure(figsize=(5,5))\n",
    "g=sns.heatmap(data[top_corr_features].corr(),annot=True,cmap=\"RdYlGn\")"
   ]
  },
  {
   "cell_type": "markdown",
   "id": "b303574a",
   "metadata": {},
   "source": [
    "The heatmap shows some useful insights:\n",
    "Correlation of target variable “Price” with independent variables:\n",
    "* Price is highly (positively) correlated with year_of_registration (0.69)\n",
    "* Price is negatively correlated to public_reference (-0.005), mileage (-0.6) and age (-0.69). This suggest that cars having high mileage may fall in the ‘economy’ cars category, and are priced lower.\n",
    "* There's no correlation between price and crossover_car_and_van because crossover_car_and_van is \"False\""
   ]
  },
  {
   "cell_type": "markdown",
   "id": "00b9a192",
   "metadata": {},
   "source": [
    "### **3. Data Cleaning & Preparation**\n",
    "Checking if dataset contains null values"
   ]
  },
  {
   "cell_type": "code",
   "execution_count": 9,
   "id": "7752ae7d",
   "metadata": {},
   "outputs": [
    {
     "data": {
      "text/plain": [
       "public_reference          0\n",
       "mileage                  22\n",
       "reg_code                 12\n",
       "standard_colour           0\n",
       "standard_make             0\n",
       "standard_model            0\n",
       "vehicle_condition         0\n",
       "year_of_registration      0\n",
       "price                     0\n",
       "body_type                 0\n",
       "crossover_car_and_van     0\n",
       "fuel_type                 0\n",
       "make_model                0\n",
       "age                       0\n",
       "dtype: int64"
      ]
     },
     "execution_count": 9,
     "metadata": {},
     "output_type": "execute_result"
    }
   ],
   "source": [
    "data.isnull().sum()"
   ]
  },
  {
   "cell_type": "code",
   "execution_count": 10,
   "id": "33fc1974",
   "metadata": {},
   "outputs": [
    {
     "data": {
      "text/html": [
       "<div>\n",
       "<style scoped>\n",
       "    .dataframe tbody tr th:only-of-type {\n",
       "        vertical-align: middle;\n",
       "    }\n",
       "\n",
       "    .dataframe tbody tr th {\n",
       "        vertical-align: top;\n",
       "    }\n",
       "\n",
       "    .dataframe thead th {\n",
       "        text-align: right;\n",
       "    }\n",
       "</style>\n",
       "<table border=\"1\" class=\"dataframe\">\n",
       "  <thead>\n",
       "    <tr style=\"text-align: right;\">\n",
       "      <th></th>\n",
       "      <th>public_reference</th>\n",
       "      <th>mileage</th>\n",
       "      <th>reg_code</th>\n",
       "      <th>standard_colour</th>\n",
       "      <th>standard_make</th>\n",
       "      <th>standard_model</th>\n",
       "      <th>vehicle_condition</th>\n",
       "      <th>year_of_registration</th>\n",
       "      <th>price</th>\n",
       "      <th>body_type</th>\n",
       "      <th>crossover_car_and_van</th>\n",
       "      <th>fuel_type</th>\n",
       "      <th>make_model</th>\n",
       "      <th>age</th>\n",
       "    </tr>\n",
       "  </thead>\n",
       "  <tbody>\n",
       "    <tr>\n",
       "      <th>0</th>\n",
       "      <td>202010014440649</td>\n",
       "      <td>31534.0</td>\n",
       "      <td>17</td>\n",
       "      <td>Grey</td>\n",
       "      <td>MINI</td>\n",
       "      <td>Hatch</td>\n",
       "      <td>USED</td>\n",
       "      <td>2017.0</td>\n",
       "      <td>19000</td>\n",
       "      <td>Hatchback</td>\n",
       "      <td>False</td>\n",
       "      <td>Petrol</td>\n",
       "      <td>MINI - Hatch</td>\n",
       "      <td>5</td>\n",
       "    </tr>\n",
       "    <tr>\n",
       "      <th>1</th>\n",
       "      <td>202010155026725</td>\n",
       "      <td>52023.0</td>\n",
       "      <td>66</td>\n",
       "      <td>Blue</td>\n",
       "      <td>Volkswagen</td>\n",
       "      <td>Golf</td>\n",
       "      <td>USED</td>\n",
       "      <td>2016.0</td>\n",
       "      <td>13500</td>\n",
       "      <td>Estate</td>\n",
       "      <td>False</td>\n",
       "      <td>Diesel</td>\n",
       "      <td>Volkswagen - Golf</td>\n",
       "      <td>6</td>\n",
       "    </tr>\n",
       "    <tr>\n",
       "      <th>2</th>\n",
       "      <td>202008142485309</td>\n",
       "      <td>29500.0</td>\n",
       "      <td>12</td>\n",
       "      <td>Grey</td>\n",
       "      <td>Mercedes-Benz</td>\n",
       "      <td>C Class</td>\n",
       "      <td>USED</td>\n",
       "      <td>2012.0</td>\n",
       "      <td>9495</td>\n",
       "      <td>Saloon</td>\n",
       "      <td>False</td>\n",
       "      <td>Petrol</td>\n",
       "      <td>Mercedes-Benz - C Class</td>\n",
       "      <td>10</td>\n",
       "    </tr>\n",
       "    <tr>\n",
       "      <th>3</th>\n",
       "      <td>202009183894045</td>\n",
       "      <td>35300.0</td>\n",
       "      <td>18</td>\n",
       "      <td>Grey</td>\n",
       "      <td>Vauxhall</td>\n",
       "      <td>Corsa</td>\n",
       "      <td>USED</td>\n",
       "      <td>2018.0</td>\n",
       "      <td>7293</td>\n",
       "      <td>Hatchback</td>\n",
       "      <td>False</td>\n",
       "      <td>Petrol</td>\n",
       "      <td>Vauxhall - Corsa</td>\n",
       "      <td>4</td>\n",
       "    </tr>\n",
       "    <tr>\n",
       "      <th>4</th>\n",
       "      <td>202010014441671</td>\n",
       "      <td>47299.0</td>\n",
       "      <td>65</td>\n",
       "      <td>Black</td>\n",
       "      <td>Nissan</td>\n",
       "      <td>Qashqai</td>\n",
       "      <td>USED</td>\n",
       "      <td>2016.0</td>\n",
       "      <td>11500</td>\n",
       "      <td>SUV</td>\n",
       "      <td>False</td>\n",
       "      <td>Diesel</td>\n",
       "      <td>Nissan - Qashqai</td>\n",
       "      <td>6</td>\n",
       "    </tr>\n",
       "    <tr>\n",
       "      <th>...</th>\n",
       "      <td>...</td>\n",
       "      <td>...</td>\n",
       "      <td>...</td>\n",
       "      <td>...</td>\n",
       "      <td>...</td>\n",
       "      <td>...</td>\n",
       "      <td>...</td>\n",
       "      <td>...</td>\n",
       "      <td>...</td>\n",
       "      <td>...</td>\n",
       "      <td>...</td>\n",
       "      <td>...</td>\n",
       "      <td>...</td>\n",
       "      <td>...</td>\n",
       "    </tr>\n",
       "    <tr>\n",
       "      <th>96264</th>\n",
       "      <td>202010295556637</td>\n",
       "      <td>28225.0</td>\n",
       "      <td>17</td>\n",
       "      <td>White</td>\n",
       "      <td>Mercedes-Benz</td>\n",
       "      <td>C Class</td>\n",
       "      <td>USED</td>\n",
       "      <td>2017.0</td>\n",
       "      <td>18499</td>\n",
       "      <td>Saloon</td>\n",
       "      <td>False</td>\n",
       "      <td>Diesel</td>\n",
       "      <td>Mercedes-Benz - C Class</td>\n",
       "      <td>5</td>\n",
       "    </tr>\n",
       "    <tr>\n",
       "      <th>96265</th>\n",
       "      <td>202010305614799</td>\n",
       "      <td>122000.0</td>\n",
       "      <td>07</td>\n",
       "      <td>Silver</td>\n",
       "      <td>BMW</td>\n",
       "      <td>3 Series</td>\n",
       "      <td>USED</td>\n",
       "      <td>2007.0</td>\n",
       "      <td>1990</td>\n",
       "      <td>Saloon</td>\n",
       "      <td>False</td>\n",
       "      <td>Petrol</td>\n",
       "      <td>BMW - 3 Series</td>\n",
       "      <td>15</td>\n",
       "    </tr>\n",
       "    <tr>\n",
       "      <th>96266</th>\n",
       "      <td>202010315639231</td>\n",
       "      <td>45000.0</td>\n",
       "      <td>15</td>\n",
       "      <td>Silver</td>\n",
       "      <td>Vauxhall</td>\n",
       "      <td>Corsa</td>\n",
       "      <td>USED</td>\n",
       "      <td>2015.0</td>\n",
       "      <td>5000</td>\n",
       "      <td>Hatchback</td>\n",
       "      <td>False</td>\n",
       "      <td>Petrol</td>\n",
       "      <td>Vauxhall - Corsa</td>\n",
       "      <td>7</td>\n",
       "    </tr>\n",
       "    <tr>\n",
       "      <th>96267</th>\n",
       "      <td>202010315647416</td>\n",
       "      <td>4075.0</td>\n",
       "      <td>69</td>\n",
       "      <td>Grey</td>\n",
       "      <td>Nissan</td>\n",
       "      <td>Juke</td>\n",
       "      <td>USED</td>\n",
       "      <td>2019.0</td>\n",
       "      <td>18000</td>\n",
       "      <td>SUV</td>\n",
       "      <td>False</td>\n",
       "      <td>Petrol</td>\n",
       "      <td>Nissan - Juke</td>\n",
       "      <td>3</td>\n",
       "    </tr>\n",
       "    <tr>\n",
       "      <th>96268</th>\n",
       "      <td>202010315659271</td>\n",
       "      <td>52760.0</td>\n",
       "      <td>62</td>\n",
       "      <td>White</td>\n",
       "      <td>Nissan</td>\n",
       "      <td>Qashqai</td>\n",
       "      <td>USED</td>\n",
       "      <td>2012.0</td>\n",
       "      <td>7250</td>\n",
       "      <td>SUV</td>\n",
       "      <td>False</td>\n",
       "      <td>Petrol</td>\n",
       "      <td>Nissan - Qashqai</td>\n",
       "      <td>10</td>\n",
       "    </tr>\n",
       "  </tbody>\n",
       "</table>\n",
       "<p>96247 rows × 14 columns</p>\n",
       "</div>"
      ],
      "text/plain": [
       "       public_reference   mileage reg_code standard_colour  standard_make  \\\n",
       "0       202010014440649   31534.0       17            Grey           MINI   \n",
       "1       202010155026725   52023.0       66            Blue     Volkswagen   \n",
       "2       202008142485309   29500.0       12            Grey  Mercedes-Benz   \n",
       "3       202009183894045   35300.0       18            Grey       Vauxhall   \n",
       "4       202010014441671   47299.0       65           Black         Nissan   \n",
       "...                 ...       ...      ...             ...            ...   \n",
       "96264   202010295556637   28225.0       17           White  Mercedes-Benz   \n",
       "96265   202010305614799  122000.0       07          Silver            BMW   \n",
       "96266   202010315639231   45000.0       15          Silver       Vauxhall   \n",
       "96267   202010315647416    4075.0       69            Grey         Nissan   \n",
       "96268   202010315659271   52760.0       62           White         Nissan   \n",
       "\n",
       "      standard_model vehicle_condition  year_of_registration  price  \\\n",
       "0              Hatch              USED                2017.0  19000   \n",
       "1               Golf              USED                2016.0  13500   \n",
       "2            C Class              USED                2012.0   9495   \n",
       "3              Corsa              USED                2018.0   7293   \n",
       "4            Qashqai              USED                2016.0  11500   \n",
       "...              ...               ...                   ...    ...   \n",
       "96264        C Class              USED                2017.0  18499   \n",
       "96265       3 Series              USED                2007.0   1990   \n",
       "96266          Corsa              USED                2015.0   5000   \n",
       "96267           Juke              USED                2019.0  18000   \n",
       "96268        Qashqai              USED                2012.0   7250   \n",
       "\n",
       "       body_type  crossover_car_and_van fuel_type               make_model  \\\n",
       "0      Hatchback                  False    Petrol             MINI - Hatch   \n",
       "1         Estate                  False    Diesel        Volkswagen - Golf   \n",
       "2         Saloon                  False    Petrol  Mercedes-Benz - C Class   \n",
       "3      Hatchback                  False    Petrol         Vauxhall - Corsa   \n",
       "4            SUV                  False    Diesel         Nissan - Qashqai   \n",
       "...          ...                    ...       ...                      ...   \n",
       "96264     Saloon                  False    Diesel  Mercedes-Benz - C Class   \n",
       "96265     Saloon                  False    Petrol           BMW - 3 Series   \n",
       "96266  Hatchback                  False    Petrol         Vauxhall - Corsa   \n",
       "96267        SUV                  False    Petrol            Nissan - Juke   \n",
       "96268        SUV                  False    Petrol         Nissan - Qashqai   \n",
       "\n",
       "       age  \n",
       "0        5  \n",
       "1        6  \n",
       "2       10  \n",
       "3        4  \n",
       "4        6  \n",
       "...    ...  \n",
       "96264    5  \n",
       "96265   15  \n",
       "96266    7  \n",
       "96267    3  \n",
       "96268   10  \n",
       "\n",
       "[96247 rows x 14 columns]"
      ]
     },
     "execution_count": 10,
     "metadata": {},
     "output_type": "execute_result"
    }
   ],
   "source": [
    "clean_mileage_data = data[~data.mileage.isnull()]\n",
    "clean_mileage_data"
   ]
  },
  {
   "cell_type": "code",
   "execution_count": 11,
   "id": "ea3b697f",
   "metadata": {},
   "outputs": [
    {
     "name": "stdout",
     "output_type": "stream",
     "text": [
      "<class 'pandas.core.frame.DataFrame'>\n",
      "Int64Index: 96247 entries, 0 to 96268\n",
      "Data columns (total 14 columns):\n",
      " #   Column                 Non-Null Count  Dtype  \n",
      "---  ------                 --------------  -----  \n",
      " 0   public_reference       96247 non-null  int64  \n",
      " 1   mileage                96247 non-null  float64\n",
      " 2   reg_code               96235 non-null  object \n",
      " 3   standard_colour        96247 non-null  object \n",
      " 4   standard_make          96247 non-null  object \n",
      " 5   standard_model         96247 non-null  object \n",
      " 6   vehicle_condition      96247 non-null  object \n",
      " 7   year_of_registration   96247 non-null  float64\n",
      " 8   price                  96247 non-null  int64  \n",
      " 9   body_type              96247 non-null  object \n",
      " 10  crossover_car_and_van  96247 non-null  bool   \n",
      " 11  fuel_type              96247 non-null  object \n",
      " 12  make_model             96247 non-null  object \n",
      " 13  age                    96247 non-null  int64  \n",
      "dtypes: bool(1), float64(2), int64(3), object(8)\n",
      "memory usage: 10.4+ MB\n"
     ]
    }
   ],
   "source": [
    "clean_mileage_data.info()"
   ]
  },
  {
   "cell_type": "code",
   "execution_count": 12,
   "id": "9a628f50",
   "metadata": {},
   "outputs": [
    {
     "data": {
      "text/html": [
       "<div>\n",
       "<style scoped>\n",
       "    .dataframe tbody tr th:only-of-type {\n",
       "        vertical-align: middle;\n",
       "    }\n",
       "\n",
       "    .dataframe tbody tr th {\n",
       "        vertical-align: top;\n",
       "    }\n",
       "\n",
       "    .dataframe thead th {\n",
       "        text-align: right;\n",
       "    }\n",
       "</style>\n",
       "<table border=\"1\" class=\"dataframe\">\n",
       "  <thead>\n",
       "    <tr style=\"text-align: right;\">\n",
       "      <th></th>\n",
       "      <th>mileage</th>\n",
       "      <th>standard_colour</th>\n",
       "      <th>standard_make</th>\n",
       "      <th>standard_model</th>\n",
       "      <th>vehicle_condition</th>\n",
       "      <th>year_of_registration</th>\n",
       "      <th>price</th>\n",
       "      <th>body_type</th>\n",
       "      <th>crossover_car_and_van</th>\n",
       "      <th>fuel_type</th>\n",
       "      <th>make_model</th>\n",
       "      <th>age</th>\n",
       "    </tr>\n",
       "  </thead>\n",
       "  <tbody>\n",
       "    <tr>\n",
       "      <th>0</th>\n",
       "      <td>31534.0</td>\n",
       "      <td>Grey</td>\n",
       "      <td>MINI</td>\n",
       "      <td>Hatch</td>\n",
       "      <td>USED</td>\n",
       "      <td>2017.0</td>\n",
       "      <td>19000</td>\n",
       "      <td>Hatchback</td>\n",
       "      <td>False</td>\n",
       "      <td>Petrol</td>\n",
       "      <td>MINI - Hatch</td>\n",
       "      <td>5</td>\n",
       "    </tr>\n",
       "    <tr>\n",
       "      <th>1</th>\n",
       "      <td>52023.0</td>\n",
       "      <td>Blue</td>\n",
       "      <td>Volkswagen</td>\n",
       "      <td>Golf</td>\n",
       "      <td>USED</td>\n",
       "      <td>2016.0</td>\n",
       "      <td>13500</td>\n",
       "      <td>Estate</td>\n",
       "      <td>False</td>\n",
       "      <td>Diesel</td>\n",
       "      <td>Volkswagen - Golf</td>\n",
       "      <td>6</td>\n",
       "    </tr>\n",
       "    <tr>\n",
       "      <th>2</th>\n",
       "      <td>29500.0</td>\n",
       "      <td>Grey</td>\n",
       "      <td>Mercedes-Benz</td>\n",
       "      <td>C Class</td>\n",
       "      <td>USED</td>\n",
       "      <td>2012.0</td>\n",
       "      <td>9495</td>\n",
       "      <td>Saloon</td>\n",
       "      <td>False</td>\n",
       "      <td>Petrol</td>\n",
       "      <td>Mercedes-Benz - C Class</td>\n",
       "      <td>10</td>\n",
       "    </tr>\n",
       "    <tr>\n",
       "      <th>3</th>\n",
       "      <td>35300.0</td>\n",
       "      <td>Grey</td>\n",
       "      <td>Vauxhall</td>\n",
       "      <td>Corsa</td>\n",
       "      <td>USED</td>\n",
       "      <td>2018.0</td>\n",
       "      <td>7293</td>\n",
       "      <td>Hatchback</td>\n",
       "      <td>False</td>\n",
       "      <td>Petrol</td>\n",
       "      <td>Vauxhall - Corsa</td>\n",
       "      <td>4</td>\n",
       "    </tr>\n",
       "    <tr>\n",
       "      <th>4</th>\n",
       "      <td>47299.0</td>\n",
       "      <td>Black</td>\n",
       "      <td>Nissan</td>\n",
       "      <td>Qashqai</td>\n",
       "      <td>USED</td>\n",
       "      <td>2016.0</td>\n",
       "      <td>11500</td>\n",
       "      <td>SUV</td>\n",
       "      <td>False</td>\n",
       "      <td>Diesel</td>\n",
       "      <td>Nissan - Qashqai</td>\n",
       "      <td>6</td>\n",
       "    </tr>\n",
       "    <tr>\n",
       "      <th>...</th>\n",
       "      <td>...</td>\n",
       "      <td>...</td>\n",
       "      <td>...</td>\n",
       "      <td>...</td>\n",
       "      <td>...</td>\n",
       "      <td>...</td>\n",
       "      <td>...</td>\n",
       "      <td>...</td>\n",
       "      <td>...</td>\n",
       "      <td>...</td>\n",
       "      <td>...</td>\n",
       "      <td>...</td>\n",
       "    </tr>\n",
       "    <tr>\n",
       "      <th>96264</th>\n",
       "      <td>28225.0</td>\n",
       "      <td>White</td>\n",
       "      <td>Mercedes-Benz</td>\n",
       "      <td>C Class</td>\n",
       "      <td>USED</td>\n",
       "      <td>2017.0</td>\n",
       "      <td>18499</td>\n",
       "      <td>Saloon</td>\n",
       "      <td>False</td>\n",
       "      <td>Diesel</td>\n",
       "      <td>Mercedes-Benz - C Class</td>\n",
       "      <td>5</td>\n",
       "    </tr>\n",
       "    <tr>\n",
       "      <th>96265</th>\n",
       "      <td>122000.0</td>\n",
       "      <td>Silver</td>\n",
       "      <td>BMW</td>\n",
       "      <td>3 Series</td>\n",
       "      <td>USED</td>\n",
       "      <td>2007.0</td>\n",
       "      <td>1990</td>\n",
       "      <td>Saloon</td>\n",
       "      <td>False</td>\n",
       "      <td>Petrol</td>\n",
       "      <td>BMW - 3 Series</td>\n",
       "      <td>15</td>\n",
       "    </tr>\n",
       "    <tr>\n",
       "      <th>96266</th>\n",
       "      <td>45000.0</td>\n",
       "      <td>Silver</td>\n",
       "      <td>Vauxhall</td>\n",
       "      <td>Corsa</td>\n",
       "      <td>USED</td>\n",
       "      <td>2015.0</td>\n",
       "      <td>5000</td>\n",
       "      <td>Hatchback</td>\n",
       "      <td>False</td>\n",
       "      <td>Petrol</td>\n",
       "      <td>Vauxhall - Corsa</td>\n",
       "      <td>7</td>\n",
       "    </tr>\n",
       "    <tr>\n",
       "      <th>96267</th>\n",
       "      <td>4075.0</td>\n",
       "      <td>Grey</td>\n",
       "      <td>Nissan</td>\n",
       "      <td>Juke</td>\n",
       "      <td>USED</td>\n",
       "      <td>2019.0</td>\n",
       "      <td>18000</td>\n",
       "      <td>SUV</td>\n",
       "      <td>False</td>\n",
       "      <td>Petrol</td>\n",
       "      <td>Nissan - Juke</td>\n",
       "      <td>3</td>\n",
       "    </tr>\n",
       "    <tr>\n",
       "      <th>96268</th>\n",
       "      <td>52760.0</td>\n",
       "      <td>White</td>\n",
       "      <td>Nissan</td>\n",
       "      <td>Qashqai</td>\n",
       "      <td>USED</td>\n",
       "      <td>2012.0</td>\n",
       "      <td>7250</td>\n",
       "      <td>SUV</td>\n",
       "      <td>False</td>\n",
       "      <td>Petrol</td>\n",
       "      <td>Nissan - Qashqai</td>\n",
       "      <td>10</td>\n",
       "    </tr>\n",
       "  </tbody>\n",
       "</table>\n",
       "<p>96247 rows × 12 columns</p>\n",
       "</div>"
      ],
      "text/plain": [
       "        mileage standard_colour  standard_make standard_model  \\\n",
       "0       31534.0            Grey           MINI          Hatch   \n",
       "1       52023.0            Blue     Volkswagen           Golf   \n",
       "2       29500.0            Grey  Mercedes-Benz        C Class   \n",
       "3       35300.0            Grey       Vauxhall          Corsa   \n",
       "4       47299.0           Black         Nissan        Qashqai   \n",
       "...         ...             ...            ...            ...   \n",
       "96264   28225.0           White  Mercedes-Benz        C Class   \n",
       "96265  122000.0          Silver            BMW       3 Series   \n",
       "96266   45000.0          Silver       Vauxhall          Corsa   \n",
       "96267    4075.0            Grey         Nissan           Juke   \n",
       "96268   52760.0           White         Nissan        Qashqai   \n",
       "\n",
       "      vehicle_condition  year_of_registration  price  body_type  \\\n",
       "0                  USED                2017.0  19000  Hatchback   \n",
       "1                  USED                2016.0  13500     Estate   \n",
       "2                  USED                2012.0   9495     Saloon   \n",
       "3                  USED                2018.0   7293  Hatchback   \n",
       "4                  USED                2016.0  11500        SUV   \n",
       "...                 ...                   ...    ...        ...   \n",
       "96264              USED                2017.0  18499     Saloon   \n",
       "96265              USED                2007.0   1990     Saloon   \n",
       "96266              USED                2015.0   5000  Hatchback   \n",
       "96267              USED                2019.0  18000        SUV   \n",
       "96268              USED                2012.0   7250        SUV   \n",
       "\n",
       "       crossover_car_and_van fuel_type               make_model  age  \n",
       "0                      False    Petrol             MINI - Hatch    5  \n",
       "1                      False    Diesel        Volkswagen - Golf    6  \n",
       "2                      False    Petrol  Mercedes-Benz - C Class   10  \n",
       "3                      False    Petrol         Vauxhall - Corsa    4  \n",
       "4                      False    Diesel         Nissan - Qashqai    6  \n",
       "...                      ...       ...                      ...  ...  \n",
       "96264                  False    Diesel  Mercedes-Benz - C Class    5  \n",
       "96265                  False    Petrol           BMW - 3 Series   15  \n",
       "96266                  False    Petrol         Vauxhall - Corsa    7  \n",
       "96267                  False    Petrol            Nissan - Juke    3  \n",
       "96268                  False    Petrol         Nissan - Qashqai   10  \n",
       "\n",
       "[96247 rows x 12 columns]"
      ]
     },
     "execution_count": 12,
     "metadata": {},
     "output_type": "execute_result"
    }
   ],
   "source": [
    "## Drop reg_code and public_reference because the column does not provide any useful correlation or meaning to the price and hence should be dropped\n",
    "clean_data = clean_mileage_data.drop([\"reg_code\", \"public_reference\"], axis = 1)\n",
    "clean_data"
   ]
  },
  {
   "cell_type": "code",
   "execution_count": 13,
   "id": "fdbaee00",
   "metadata": {},
   "outputs": [
    {
     "name": "stdout",
     "output_type": "stream",
     "text": [
      "<class 'pandas.core.frame.DataFrame'>\n",
      "Int64Index: 96247 entries, 0 to 96268\n",
      "Data columns (total 12 columns):\n",
      " #   Column                 Non-Null Count  Dtype  \n",
      "---  ------                 --------------  -----  \n",
      " 0   mileage                96247 non-null  float64\n",
      " 1   standard_colour        96247 non-null  object \n",
      " 2   standard_make          96247 non-null  object \n",
      " 3   standard_model         96247 non-null  object \n",
      " 4   vehicle_condition      96247 non-null  object \n",
      " 5   year_of_registration   96247 non-null  float64\n",
      " 6   price                  96247 non-null  int64  \n",
      " 7   body_type              96247 non-null  object \n",
      " 8   crossover_car_and_van  96247 non-null  bool   \n",
      " 9   fuel_type              96247 non-null  object \n",
      " 10  make_model             96247 non-null  object \n",
      " 11  age                    96247 non-null  int64  \n",
      "dtypes: bool(1), float64(2), int64(2), object(7)\n",
      "memory usage: 8.9+ MB\n"
     ]
    }
   ],
   "source": [
    "clean_data.info()"
   ]
  },
  {
   "cell_type": "code",
   "execution_count": 14,
   "id": "3917c491",
   "metadata": {},
   "outputs": [
    {
     "name": "stderr",
     "output_type": "stream",
     "text": [
      "*c* argument looks like a single numeric RGB or RGBA sequence, which should be avoided as value-mapping will have precedence in case its length matches with *x* & *y*.  Please use the *color* keyword-argument or provide a 2D array with a single row if you intend to specify the same RGB or RGBA value for all points.\n"
     ]
    },
    {
     "data": {
      "image/png": "[encoded data removed]",
      "text/plain": [
       "<Figure size 432x288 with 1 Axes>"
      ]
     },
     "metadata": {},
     "output_type": "display_data"
    }
   ],
   "source": [
    "mil = \"mileage\"\n",
    "data = pd.concat([clean_data[\"price\"], clean_data[mil]], axis=1)\n",
    "data.plot.scatter(x=mil, y=\"price\", ylim=(0,165000));"
   ]
  },
  {
   "cell_type": "markdown",
   "id": "fe47d9b4",
   "metadata": {},
   "source": [
    "### Plotting a heat map to analyze the clean_data and keep an eye on the co-relation between labels"
   ]
  },
  {
   "cell_type": "code",
   "execution_count": 15,
   "id": "ed09b8db",
   "metadata": {},
   "outputs": [
    {
     "data": {
      "image/png": "[encoded data removed]",
      "text/plain": [
       "<Figure size 360x360 with 2 Axes>"
      ]
     },
     "metadata": {},
     "output_type": "display_data"
    }
   ],
   "source": [
    "corrmat=clean_data.corr()\n",
    "top_corr_features=corrmat.index\n",
    "plt.figure(figsize=(5,5))\n",
    "g=sns.heatmap(clean_data[top_corr_features].corr(),annot=True,cmap=\"RdYlGn\")"
   ]
  },
  {
   "cell_type": "markdown",
   "id": "1934bc36",
   "metadata": {},
   "source": [
    "### Plotting a histogram to visualize the cars mileage in accordance with the clean_data."
   ]
  },
  {
   "cell_type": "code",
   "execution_count": 16,
   "id": "0910540e",
   "metadata": {},
   "outputs": [
    {
     "name": "stderr",
     "output_type": "stream",
     "text": [
      "C:\\Users\\DELL\\anaconda3\\lib\\site-packages\\seaborn\\distributions.py:2619: FutureWarning: `distplot` is a deprecated function and will be removed in a future version. Please adapt your code to use either `displot` (a figure-level function with similar flexibility) or `histplot` (an axes-level function for histograms).\n",
      "  warnings.warn(msg, FutureWarning)\n"
     ]
    },
    {
     "data": {
      "text/plain": [
       "Text(0.5, 1.0, 'mileage clean_data distribution')"
      ]
     },
     "execution_count": 16,
     "metadata": {},
     "output_type": "execute_result"
    },
    {
     "data": {
      "image/png": "[encoded data removed]",
      "text/plain": [
       "<Figure size 576x288 with 1 Axes>"
      ]
     },
     "metadata": {},
     "output_type": "display_data"
    }
   ],
   "source": [
    "fig=plt.figure(figsize=(8,4))\n",
    "sns.distplot(clean_data['mileage'])\n",
    "plt.title('mileage clean_data distribution')"
   ]
  },
  {
   "cell_type": "markdown",
   "id": "0a91d02b",
   "metadata": {},
   "source": [
    "### Handling and removing the Outliers of price and mileage\n",
    "\n",
    "An outlier is a data point that is noticeably different from the rest. They represent errors in measurement, bad data collection, or simply show variables not considered when collecting the data.\n",
    "\n",
    "We use the Inter-quartile range method to determine and cutoff outliers and hence reduce the presence of noise.\n",
    "\n",
    "The values for `IQR` for each column is as listed below:\n",
    "- IQR value for column `mileage` is: 45000.0\n",
    "- IQR value for column `price` is: 8665.0\n",
    "\n",
    "After using this cut-off the end result is a new DataFrame with a shape of (91909, 14)."
   ]
  },
  {
   "cell_type": "code",
   "execution_count": 17,
   "id": "3d04e0b1",
   "metadata": {},
   "outputs": [
    {
     "data": {
      "text/plain": [
       "<AxesSubplot:xlabel='price'>"
      ]
     },
     "execution_count": 17,
     "metadata": {},
     "output_type": "execute_result"
    },
    {
     "data": {
      "image/png": "[encoded data removed]",
      "text/plain": [
       "<Figure size 432x288 with 1 Axes>"
      ]
     },
     "metadata": {},
     "output_type": "display_data"
    }
   ],
   "source": [
    "sns.boxplot(x=clean_mileage_data[\"price\"])"
   ]
  },
  {
   "cell_type": "code",
   "execution_count": 18,
   "id": "0a614fe3",
   "metadata": {},
   "outputs": [
    {
     "data": {
      "text/plain": [
       "<AxesSubplot:xlabel='mileage'>"
      ]
     },
     "execution_count": 18,
     "metadata": {},
     "output_type": "execute_result"
    },
    {
     "data": {
      "image/png": "[encoded data removed]",
      "text/plain": [
       "<Figure size 432x288 with 1 Axes>"
      ]
     },
     "metadata": {},
     "output_type": "display_data"
    }
   ],
   "source": [
    "sns.boxplot(x=clean_mileage_data[\"mileage\"])"
   ]
  },
  {
   "cell_type": "markdown",
   "id": "ef351bda",
   "metadata": {},
   "source": [
    "### Removing the outliers "
   ]
  },
  {
   "cell_type": "code",
   "execution_count": 19,
   "id": "8102f39c",
   "metadata": {},
   "outputs": [],
   "source": [
    "def removeOutliers(data, col):\n",
    "    Q3 = np.quantile(data[col], 0.75)\n",
    "    Q1 = np.quantile(data[col], 0.25)\n",
    "    IQR = Q3 - Q1\n",
    " \n",
    "    print(\"IQR value for column %s is: %s\" % (col, IQR))\n",
    "    global outlier_free_list\n",
    "    global filtered_data\n",
    " \n",
    "    lower_range = Q1 - 1.5 * IQR\n",
    "    upper_range = Q3 + 1.5 * IQR\n",
    "    outlier_free_list = [x for x in data[col] if (\n",
    "        (x > lower_range) & (x < upper_range))]\n",
    "    filtered_data = data.loc[data[col].isin(outlier_free_list)]\n",
    "    return filtered_data"
   ]
  },
  {
   "cell_type": "code",
   "execution_count": 20,
   "id": "d28a6483",
   "metadata": {},
   "outputs": [
    {
     "name": "stdout",
     "output_type": "stream",
     "text": [
      "IQR value for column mileage is: 45000.0\n",
      "IQR value for column price is: 8665.0\n"
     ]
    }
   ],
   "source": [
    "outlier_free_mileage = removeOutliers(clean_mileage_data, \"mileage\")\n",
    "outlier_free_price = removeOutliers(outlier_free_mileage, \"price\")"
   ]
  },
  {
   "cell_type": "code",
   "execution_count": 21,
   "id": "d5c06422",
   "metadata": {},
   "outputs": [],
   "source": [
    "outlier_free_data = outlier_free_price"
   ]
  },
  {
   "cell_type": "code",
   "execution_count": 22,
   "id": "8eab44b3",
   "metadata": {},
   "outputs": [
    {
     "data": {
      "text/plain": [
       "(91909, 14)"
      ]
     },
     "execution_count": 22,
     "metadata": {},
     "output_type": "execute_result"
    }
   ],
   "source": [
    "outlier_free_data.shape"
   ]
  },
  {
   "cell_type": "code",
   "execution_count": 23,
   "id": "27ed9abb",
   "metadata": {},
   "outputs": [
    {
     "data": {
      "text/plain": [
       "<AxesSubplot:xlabel='price'>"
      ]
     },
     "execution_count": 23,
     "metadata": {},
     "output_type": "execute_result"
    },
    {
     "data": {
      "image/png": "[encoded data removed]",
      "text/plain": [
       "<Figure size 432x288 with 1 Axes>"
      ]
     },
     "metadata": {},
     "output_type": "display_data"
    }
   ],
   "source": [
    "sns.boxplot(x=outlier_free_data[\"price\"])"
   ]
  },
  {
   "cell_type": "code",
   "execution_count": 24,
   "id": "f50c6190",
   "metadata": {},
   "outputs": [
    {
     "data": {
      "text/plain": [
       "<AxesSubplot:xlabel='mileage'>"
      ]
     },
     "execution_count": 24,
     "metadata": {},
     "output_type": "execute_result"
    },
    {
     "data": {
      "image/png": "[encoded data removed]",
      "text/plain": [
       "<Figure size 432x288 with 1 Axes>"
      ]
     },
     "metadata": {},
     "output_type": "display_data"
    }
   ],
   "source": [
    "sns.boxplot(x=outlier_free_data[\"mileage\"])"
   ]
  },
  {
   "cell_type": "code",
   "execution_count": 25,
   "id": "0d55095e",
   "metadata": {
    "scrolled": true
   },
   "outputs": [
    {
     "data": {
      "text/plain": [
       "0        19000\n",
       "1        13500\n",
       "2         9495\n",
       "3         7293\n",
       "4        11500\n",
       "         ...  \n",
       "96264    18499\n",
       "96265     1990\n",
       "96266     5000\n",
       "96267    18000\n",
       "96268     7250\n",
       "Name: price, Length: 91909, dtype: int64"
      ]
     },
     "execution_count": 25,
     "metadata": {},
     "output_type": "execute_result"
    }
   ],
   "source": [
    "y = outlier_free_data['price']  \n",
    "y"
   ]
  },
  {
   "cell_type": "code",
   "execution_count": 26,
   "id": "65f588ec",
   "metadata": {},
   "outputs": [
    {
     "data": {
      "text/html": [
       "<div>\n",
       "<style scoped>\n",
       "    .dataframe tbody tr th:only-of-type {\n",
       "        vertical-align: middle;\n",
       "    }\n",
       "\n",
       "    .dataframe tbody tr th {\n",
       "        vertical-align: top;\n",
       "    }\n",
       "\n",
       "    .dataframe thead th {\n",
       "        text-align: right;\n",
       "    }\n",
       "</style>\n",
       "<table border=\"1\" class=\"dataframe\">\n",
       "  <thead>\n",
       "    <tr style=\"text-align: right;\">\n",
       "      <th></th>\n",
       "      <th>public_reference</th>\n",
       "      <th>mileage</th>\n",
       "      <th>reg_code</th>\n",
       "      <th>standard_colour</th>\n",
       "      <th>standard_make</th>\n",
       "      <th>standard_model</th>\n",
       "      <th>vehicle_condition</th>\n",
       "      <th>year_of_registration</th>\n",
       "      <th>body_type</th>\n",
       "      <th>crossover_car_and_van</th>\n",
       "      <th>fuel_type</th>\n",
       "      <th>make_model</th>\n",
       "      <th>age</th>\n",
       "    </tr>\n",
       "  </thead>\n",
       "  <tbody>\n",
       "    <tr>\n",
       "      <th>0</th>\n",
       "      <td>202010014440649</td>\n",
       "      <td>31534.0</td>\n",
       "      <td>17</td>\n",
       "      <td>Grey</td>\n",
       "      <td>MINI</td>\n",
       "      <td>Hatch</td>\n",
       "      <td>USED</td>\n",
       "      <td>2017.0</td>\n",
       "      <td>Hatchback</td>\n",
       "      <td>False</td>\n",
       "      <td>Petrol</td>\n",
       "      <td>MINI - Hatch</td>\n",
       "      <td>5</td>\n",
       "    </tr>\n",
       "    <tr>\n",
       "      <th>1</th>\n",
       "      <td>202010155026725</td>\n",
       "      <td>52023.0</td>\n",
       "      <td>66</td>\n",
       "      <td>Blue</td>\n",
       "      <td>Volkswagen</td>\n",
       "      <td>Golf</td>\n",
       "      <td>USED</td>\n",
       "      <td>2016.0</td>\n",
       "      <td>Estate</td>\n",
       "      <td>False</td>\n",
       "      <td>Diesel</td>\n",
       "      <td>Volkswagen - Golf</td>\n",
       "      <td>6</td>\n",
       "    </tr>\n",
       "    <tr>\n",
       "      <th>2</th>\n",
       "      <td>202008142485309</td>\n",
       "      <td>29500.0</td>\n",
       "      <td>12</td>\n",
       "      <td>Grey</td>\n",
       "      <td>Mercedes-Benz</td>\n",
       "      <td>C Class</td>\n",
       "      <td>USED</td>\n",
       "      <td>2012.0</td>\n",
       "      <td>Saloon</td>\n",
       "      <td>False</td>\n",
       "      <td>Petrol</td>\n",
       "      <td>Mercedes-Benz - C Class</td>\n",
       "      <td>10</td>\n",
       "    </tr>\n",
       "    <tr>\n",
       "      <th>3</th>\n",
       "      <td>202009183894045</td>\n",
       "      <td>35300.0</td>\n",
       "      <td>18</td>\n",
       "      <td>Grey</td>\n",
       "      <td>Vauxhall</td>\n",
       "      <td>Corsa</td>\n",
       "      <td>USED</td>\n",
       "      <td>2018.0</td>\n",
       "      <td>Hatchback</td>\n",
       "      <td>False</td>\n",
       "      <td>Petrol</td>\n",
       "      <td>Vauxhall - Corsa</td>\n",
       "      <td>4</td>\n",
       "    </tr>\n",
       "    <tr>\n",
       "      <th>4</th>\n",
       "      <td>202010014441671</td>\n",
       "      <td>47299.0</td>\n",
       "      <td>65</td>\n",
       "      <td>Black</td>\n",
       "      <td>Nissan</td>\n",
       "      <td>Qashqai</td>\n",
       "      <td>USED</td>\n",
       "      <td>2016.0</td>\n",
       "      <td>SUV</td>\n",
       "      <td>False</td>\n",
       "      <td>Diesel</td>\n",
       "      <td>Nissan - Qashqai</td>\n",
       "      <td>6</td>\n",
       "    </tr>\n",
       "    <tr>\n",
       "      <th>...</th>\n",
       "      <td>...</td>\n",
       "      <td>...</td>\n",
       "      <td>...</td>\n",
       "      <td>...</td>\n",
       "      <td>...</td>\n",
       "      <td>...</td>\n",
       "      <td>...</td>\n",
       "      <td>...</td>\n",
       "      <td>...</td>\n",
       "      <td>...</td>\n",
       "      <td>...</td>\n",
       "      <td>...</td>\n",
       "      <td>...</td>\n",
       "    </tr>\n",
       "    <tr>\n",
       "      <th>96264</th>\n",
       "      <td>202010295556637</td>\n",
       "      <td>28225.0</td>\n",
       "      <td>17</td>\n",
       "      <td>White</td>\n",
       "      <td>Mercedes-Benz</td>\n",
       "      <td>C Class</td>\n",
       "      <td>USED</td>\n",
       "      <td>2017.0</td>\n",
       "      <td>Saloon</td>\n",
       "      <td>False</td>\n",
       "      <td>Diesel</td>\n",
       "      <td>Mercedes-Benz - C Class</td>\n",
       "      <td>5</td>\n",
       "    </tr>\n",
       "    <tr>\n",
       "      <th>96265</th>\n",
       "      <td>202010305614799</td>\n",
       "      <td>122000.0</td>\n",
       "      <td>07</td>\n",
       "      <td>Silver</td>\n",
       "      <td>BMW</td>\n",
       "      <td>3 Series</td>\n",
       "      <td>USED</td>\n",
       "      <td>2007.0</td>\n",
       "      <td>Saloon</td>\n",
       "      <td>False</td>\n",
       "      <td>Petrol</td>\n",
       "      <td>BMW - 3 Series</td>\n",
       "      <td>15</td>\n",
       "    </tr>\n",
       "    <tr>\n",
       "      <th>96266</th>\n",
       "      <td>202010315639231</td>\n",
       "      <td>45000.0</td>\n",
       "      <td>15</td>\n",
       "      <td>Silver</td>\n",
       "      <td>Vauxhall</td>\n",
       "      <td>Corsa</td>\n",
       "      <td>USED</td>\n",
       "      <td>2015.0</td>\n",
       "      <td>Hatchback</td>\n",
       "      <td>False</td>\n",
       "      <td>Petrol</td>\n",
       "      <td>Vauxhall - Corsa</td>\n",
       "      <td>7</td>\n",
       "    </tr>\n",
       "    <tr>\n",
       "      <th>96267</th>\n",
       "      <td>202010315647416</td>\n",
       "      <td>4075.0</td>\n",
       "      <td>69</td>\n",
       "      <td>Grey</td>\n",
       "      <td>Nissan</td>\n",
       "      <td>Juke</td>\n",
       "      <td>USED</td>\n",
       "      <td>2019.0</td>\n",
       "      <td>SUV</td>\n",
       "      <td>False</td>\n",
       "      <td>Petrol</td>\n",
       "      <td>Nissan - Juke</td>\n",
       "      <td>3</td>\n",
       "    </tr>\n",
       "    <tr>\n",
       "      <th>96268</th>\n",
       "      <td>202010315659271</td>\n",
       "      <td>52760.0</td>\n",
       "      <td>62</td>\n",
       "      <td>White</td>\n",
       "      <td>Nissan</td>\n",
       "      <td>Qashqai</td>\n",
       "      <td>USED</td>\n",
       "      <td>2012.0</td>\n",
       "      <td>SUV</td>\n",
       "      <td>False</td>\n",
       "      <td>Petrol</td>\n",
       "      <td>Nissan - Qashqai</td>\n",
       "      <td>10</td>\n",
       "    </tr>\n",
       "  </tbody>\n",
       "</table>\n",
       "<p>91909 rows × 13 columns</p>\n",
       "</div>"
      ],
      "text/plain": [
       "       public_reference   mileage reg_code standard_colour  standard_make  \\\n",
       "0       202010014440649   31534.0       17            Grey           MINI   \n",
       "1       202010155026725   52023.0       66            Blue     Volkswagen   \n",
       "2       202008142485309   29500.0       12            Grey  Mercedes-Benz   \n",
       "3       202009183894045   35300.0       18            Grey       Vauxhall   \n",
       "4       202010014441671   47299.0       65           Black         Nissan   \n",
       "...                 ...       ...      ...             ...            ...   \n",
       "96264   202010295556637   28225.0       17           White  Mercedes-Benz   \n",
       "96265   202010305614799  122000.0       07          Silver            BMW   \n",
       "96266   202010315639231   45000.0       15          Silver       Vauxhall   \n",
       "96267   202010315647416    4075.0       69            Grey         Nissan   \n",
       "96268   202010315659271   52760.0       62           White         Nissan   \n",
       "\n",
       "      standard_model vehicle_condition  year_of_registration  body_type  \\\n",
       "0              Hatch              USED                2017.0  Hatchback   \n",
       "1               Golf              USED                2016.0     Estate   \n",
       "2            C Class              USED                2012.0     Saloon   \n",
       "3              Corsa              USED                2018.0  Hatchback   \n",
       "4            Qashqai              USED                2016.0        SUV   \n",
       "...              ...               ...                   ...        ...   \n",
       "96264        C Class              USED                2017.0     Saloon   \n",
       "96265       3 Series              USED                2007.0     Saloon   \n",
       "96266          Corsa              USED                2015.0  Hatchback   \n",
       "96267           Juke              USED                2019.0        SUV   \n",
       "96268        Qashqai              USED                2012.0        SUV   \n",
       "\n",
       "       crossover_car_and_van fuel_type               make_model  age  \n",
       "0                      False    Petrol             MINI - Hatch    5  \n",
       "1                      False    Diesel        Volkswagen - Golf    6  \n",
       "2                      False    Petrol  Mercedes-Benz - C Class   10  \n",
       "3                      False    Petrol         Vauxhall - Corsa    4  \n",
       "4                      False    Diesel         Nissan - Qashqai    6  \n",
       "...                      ...       ...                      ...  ...  \n",
       "96264                  False    Diesel  Mercedes-Benz - C Class    5  \n",
       "96265                  False    Petrol           BMW - 3 Series   15  \n",
       "96266                  False    Petrol         Vauxhall - Corsa    7  \n",
       "96267                  False    Petrol            Nissan - Juke    3  \n",
       "96268                  False    Petrol         Nissan - Qashqai   10  \n",
       "\n",
       "[91909 rows x 13 columns]"
      ]
     },
     "execution_count": 26,
     "metadata": {},
     "output_type": "execute_result"
    }
   ],
   "source": [
    "X = outlier_free_data.drop(['price'], axis=1)\n",
    "X"
   ]
  },
  {
   "cell_type": "code",
   "execution_count": 27,
   "id": "8dc4552b",
   "metadata": {},
   "outputs": [
    {
     "data": {
      "text/html": [
       "<div>\n",
       "<style scoped>\n",
       "    .dataframe tbody tr th:only-of-type {\n",
       "        vertical-align: middle;\n",
       "    }\n",
       "\n",
       "    .dataframe tbody tr th {\n",
       "        vertical-align: top;\n",
       "    }\n",
       "\n",
       "    .dataframe thead th {\n",
       "        text-align: right;\n",
       "    }\n",
       "</style>\n",
       "<table border=\"1\" class=\"dataframe\">\n",
       "  <thead>\n",
       "    <tr style=\"text-align: right;\">\n",
       "      <th></th>\n",
       "      <th>public_reference</th>\n",
       "      <th>mileage</th>\n",
       "      <th>reg_code</th>\n",
       "      <th>standard_colour</th>\n",
       "      <th>standard_make</th>\n",
       "      <th>standard_model</th>\n",
       "      <th>vehicle_condition</th>\n",
       "      <th>year_of_registration</th>\n",
       "      <th>price</th>\n",
       "      <th>body_type</th>\n",
       "      <th>crossover_car_and_van</th>\n",
       "      <th>fuel_type</th>\n",
       "      <th>make_model</th>\n",
       "      <th>age</th>\n",
       "    </tr>\n",
       "  </thead>\n",
       "  <tbody>\n",
       "    <tr>\n",
       "      <th>0</th>\n",
       "      <td>202010014440649</td>\n",
       "      <td>31534.0</td>\n",
       "      <td>17</td>\n",
       "      <td>Grey</td>\n",
       "      <td>MINI</td>\n",
       "      <td>Hatch</td>\n",
       "      <td>USED</td>\n",
       "      <td>2017.0</td>\n",
       "      <td>19000</td>\n",
       "      <td>Hatchback</td>\n",
       "      <td>False</td>\n",
       "      <td>Petrol</td>\n",
       "      <td>MINI - Hatch</td>\n",
       "      <td>5</td>\n",
       "    </tr>\n",
       "    <tr>\n",
       "      <th>1</th>\n",
       "      <td>202010155026725</td>\n",
       "      <td>52023.0</td>\n",
       "      <td>66</td>\n",
       "      <td>Blue</td>\n",
       "      <td>Volkswagen</td>\n",
       "      <td>Golf</td>\n",
       "      <td>USED</td>\n",
       "      <td>2016.0</td>\n",
       "      <td>13500</td>\n",
       "      <td>Estate</td>\n",
       "      <td>False</td>\n",
       "      <td>Diesel</td>\n",
       "      <td>Volkswagen - Golf</td>\n",
       "      <td>6</td>\n",
       "    </tr>\n",
       "    <tr>\n",
       "      <th>2</th>\n",
       "      <td>202008142485309</td>\n",
       "      <td>29500.0</td>\n",
       "      <td>12</td>\n",
       "      <td>Grey</td>\n",
       "      <td>Mercedes-Benz</td>\n",
       "      <td>C Class</td>\n",
       "      <td>USED</td>\n",
       "      <td>2012.0</td>\n",
       "      <td>9495</td>\n",
       "      <td>Saloon</td>\n",
       "      <td>False</td>\n",
       "      <td>Petrol</td>\n",
       "      <td>Mercedes-Benz - C Class</td>\n",
       "      <td>10</td>\n",
       "    </tr>\n",
       "    <tr>\n",
       "      <th>3</th>\n",
       "      <td>202009183894045</td>\n",
       "      <td>35300.0</td>\n",
       "      <td>18</td>\n",
       "      <td>Grey</td>\n",
       "      <td>Vauxhall</td>\n",
       "      <td>Corsa</td>\n",
       "      <td>USED</td>\n",
       "      <td>2018.0</td>\n",
       "      <td>7293</td>\n",
       "      <td>Hatchback</td>\n",
       "      <td>False</td>\n",
       "      <td>Petrol</td>\n",
       "      <td>Vauxhall - Corsa</td>\n",
       "      <td>4</td>\n",
       "    </tr>\n",
       "    <tr>\n",
       "      <th>4</th>\n",
       "      <td>202010014441671</td>\n",
       "      <td>47299.0</td>\n",
       "      <td>65</td>\n",
       "      <td>Black</td>\n",
       "      <td>Nissan</td>\n",
       "      <td>Qashqai</td>\n",
       "      <td>USED</td>\n",
       "      <td>2016.0</td>\n",
       "      <td>11500</td>\n",
       "      <td>SUV</td>\n",
       "      <td>False</td>\n",
       "      <td>Diesel</td>\n",
       "      <td>Nissan - Qashqai</td>\n",
       "      <td>6</td>\n",
       "    </tr>\n",
       "  </tbody>\n",
       "</table>\n",
       "</div>"
      ],
      "text/plain": [
       "   public_reference  mileage reg_code standard_colour  standard_make  \\\n",
       "0   202010014440649  31534.0       17            Grey           MINI   \n",
       "1   202010155026725  52023.0       66            Blue     Volkswagen   \n",
       "2   202008142485309  29500.0       12            Grey  Mercedes-Benz   \n",
       "3   202009183894045  35300.0       18            Grey       Vauxhall   \n",
       "4   202010014441671  47299.0       65           Black         Nissan   \n",
       "\n",
       "  standard_model vehicle_condition  year_of_registration  price  body_type  \\\n",
       "0          Hatch              USED                2017.0  19000  Hatchback   \n",
       "1           Golf              USED                2016.0  13500     Estate   \n",
       "2        C Class              USED                2012.0   9495     Saloon   \n",
       "3          Corsa              USED                2018.0   7293  Hatchback   \n",
       "4        Qashqai              USED                2016.0  11500        SUV   \n",
       "\n",
       "   crossover_car_and_van fuel_type               make_model  age  \n",
       "0                  False    Petrol             MINI - Hatch    5  \n",
       "1                  False    Diesel        Volkswagen - Golf    6  \n",
       "2                  False    Petrol  Mercedes-Benz - C Class   10  \n",
       "3                  False    Petrol         Vauxhall - Corsa    4  \n",
       "4                  False    Diesel         Nissan - Qashqai    6  "
      ]
     },
     "execution_count": 27,
     "metadata": {},
     "output_type": "execute_result"
    }
   ],
   "source": [
    "outlier_free_data.head()"
   ]
  },
  {
   "cell_type": "code",
   "execution_count": 28,
   "id": "80b96569",
   "metadata": {},
   "outputs": [
    {
     "data": {
      "text/html": [
       "<div>\n",
       "<style scoped>\n",
       "    .dataframe tbody tr th:only-of-type {\n",
       "        vertical-align: middle;\n",
       "    }\n",
       "\n",
       "    .dataframe tbody tr th {\n",
       "        vertical-align: top;\n",
       "    }\n",
       "\n",
       "    .dataframe thead th {\n",
       "        text-align: right;\n",
       "    }\n",
       "</style>\n",
       "<table border=\"1\" class=\"dataframe\">\n",
       "  <thead>\n",
       "    <tr style=\"text-align: right;\">\n",
       "      <th></th>\n",
       "      <th>standard_colour_Black</th>\n",
       "      <th>standard_colour_Blue</th>\n",
       "      <th>standard_colour_Grey</th>\n",
       "      <th>standard_colour_Silver</th>\n",
       "      <th>standard_colour_White</th>\n",
       "      <th>body_type_Coupe</th>\n",
       "      <th>body_type_Estate</th>\n",
       "      <th>body_type_Hatchback</th>\n",
       "      <th>body_type_SUV</th>\n",
       "      <th>body_type_Saloon</th>\n",
       "      <th>...</th>\n",
       "      <th>make_model_Mercedes-Benz - C Class</th>\n",
       "      <th>make_model_Mercedes-Benz - E Class</th>\n",
       "      <th>make_model_Nissan - Juke</th>\n",
       "      <th>make_model_Nissan - Qashqai</th>\n",
       "      <th>make_model_Renault - Clio</th>\n",
       "      <th>make_model_Toyota - Yaris</th>\n",
       "      <th>make_model_Vauxhall - Astra</th>\n",
       "      <th>make_model_Vauxhall - Corsa</th>\n",
       "      <th>make_model_Volkswagen - Golf</th>\n",
       "      <th>make_model_Volkswagen - Polo</th>\n",
       "    </tr>\n",
       "  </thead>\n",
       "  <tbody>\n",
       "    <tr>\n",
       "      <th>0</th>\n",
       "      <td>0</td>\n",
       "      <td>0</td>\n",
       "      <td>1</td>\n",
       "      <td>0</td>\n",
       "      <td>0</td>\n",
       "      <td>0</td>\n",
       "      <td>0</td>\n",
       "      <td>1</td>\n",
       "      <td>0</td>\n",
       "      <td>0</td>\n",
       "      <td>...</td>\n",
       "      <td>0</td>\n",
       "      <td>0</td>\n",
       "      <td>0</td>\n",
       "      <td>0</td>\n",
       "      <td>0</td>\n",
       "      <td>0</td>\n",
       "      <td>0</td>\n",
       "      <td>0</td>\n",
       "      <td>0</td>\n",
       "      <td>0</td>\n",
       "    </tr>\n",
       "    <tr>\n",
       "      <th>1</th>\n",
       "      <td>0</td>\n",
       "      <td>1</td>\n",
       "      <td>0</td>\n",
       "      <td>0</td>\n",
       "      <td>0</td>\n",
       "      <td>0</td>\n",
       "      <td>1</td>\n",
       "      <td>0</td>\n",
       "      <td>0</td>\n",
       "      <td>0</td>\n",
       "      <td>...</td>\n",
       "      <td>0</td>\n",
       "      <td>0</td>\n",
       "      <td>0</td>\n",
       "      <td>0</td>\n",
       "      <td>0</td>\n",
       "      <td>0</td>\n",
       "      <td>0</td>\n",
       "      <td>0</td>\n",
       "      <td>1</td>\n",
       "      <td>0</td>\n",
       "    </tr>\n",
       "    <tr>\n",
       "      <th>2</th>\n",
       "      <td>0</td>\n",
       "      <td>0</td>\n",
       "      <td>1</td>\n",
       "      <td>0</td>\n",
       "      <td>0</td>\n",
       "      <td>0</td>\n",
       "      <td>0</td>\n",
       "      <td>0</td>\n",
       "      <td>0</td>\n",
       "      <td>1</td>\n",
       "      <td>...</td>\n",
       "      <td>1</td>\n",
       "      <td>0</td>\n",
       "      <td>0</td>\n",
       "      <td>0</td>\n",
       "      <td>0</td>\n",
       "      <td>0</td>\n",
       "      <td>0</td>\n",
       "      <td>0</td>\n",
       "      <td>0</td>\n",
       "      <td>0</td>\n",
       "    </tr>\n",
       "    <tr>\n",
       "      <th>3</th>\n",
       "      <td>0</td>\n",
       "      <td>0</td>\n",
       "      <td>1</td>\n",
       "      <td>0</td>\n",
       "      <td>0</td>\n",
       "      <td>0</td>\n",
       "      <td>0</td>\n",
       "      <td>1</td>\n",
       "      <td>0</td>\n",
       "      <td>0</td>\n",
       "      <td>...</td>\n",
       "      <td>0</td>\n",
       "      <td>0</td>\n",
       "      <td>0</td>\n",
       "      <td>0</td>\n",
       "      <td>0</td>\n",
       "      <td>0</td>\n",
       "      <td>0</td>\n",
       "      <td>1</td>\n",
       "      <td>0</td>\n",
       "      <td>0</td>\n",
       "    </tr>\n",
       "    <tr>\n",
       "      <th>4</th>\n",
       "      <td>1</td>\n",
       "      <td>0</td>\n",
       "      <td>0</td>\n",
       "      <td>0</td>\n",
       "      <td>0</td>\n",
       "      <td>0</td>\n",
       "      <td>0</td>\n",
       "      <td>0</td>\n",
       "      <td>1</td>\n",
       "      <td>0</td>\n",
       "      <td>...</td>\n",
       "      <td>0</td>\n",
       "      <td>0</td>\n",
       "      <td>0</td>\n",
       "      <td>1</td>\n",
       "      <td>0</td>\n",
       "      <td>0</td>\n",
       "      <td>0</td>\n",
       "      <td>0</td>\n",
       "      <td>0</td>\n",
       "      <td>0</td>\n",
       "    </tr>\n",
       "  </tbody>\n",
       "</table>\n",
       "<p>5 rows × 31 columns</p>\n",
       "</div>"
      ],
      "text/plain": [
       "   standard_colour_Black  standard_colour_Blue  standard_colour_Grey  \\\n",
       "0                      0                     0                     1   \n",
       "1                      0                     1                     0   \n",
       "2                      0                     0                     1   \n",
       "3                      0                     0                     1   \n",
       "4                      1                     0                     0   \n",
       "\n",
       "   standard_colour_Silver  standard_colour_White  body_type_Coupe  \\\n",
       "0                       0                      0                0   \n",
       "1                       0                      0                0   \n",
       "2                       0                      0                0   \n",
       "3                       0                      0                0   \n",
       "4                       0                      0                0   \n",
       "\n",
       "   body_type_Estate  body_type_Hatchback  body_type_SUV  body_type_Saloon  \\\n",
       "0                 0                    1              0                 0   \n",
       "1                 1                    0              0                 0   \n",
       "2                 0                    0              0                 1   \n",
       "3                 0                    1              0                 0   \n",
       "4                 0                    0              1                 0   \n",
       "\n",
       "   ...  make_model_Mercedes-Benz - C Class  \\\n",
       "0  ...                                   0   \n",
       "1  ...                                   0   \n",
       "2  ...                                   1   \n",
       "3  ...                                   0   \n",
       "4  ...                                   0   \n",
       "\n",
       "   make_model_Mercedes-Benz - E Class  make_model_Nissan - Juke  \\\n",
       "0                                   0                         0   \n",
       "1                                   0                         0   \n",
       "2                                   0                         0   \n",
       "3                                   0                         0   \n",
       "4                                   0                         0   \n",
       "\n",
       "   make_model_Nissan - Qashqai  make_model_Renault - Clio  \\\n",
       "0                            0                          0   \n",
       "1                            0                          0   \n",
       "2                            0                          0   \n",
       "3                            0                          0   \n",
       "4                            1                          0   \n",
       "\n",
       "   make_model_Toyota - Yaris  make_model_Vauxhall - Astra  \\\n",
       "0                          0                            0   \n",
       "1                          0                            0   \n",
       "2                          0                            0   \n",
       "3                          0                            0   \n",
       "4                          0                            0   \n",
       "\n",
       "   make_model_Vauxhall - Corsa  make_model_Volkswagen - Golf  \\\n",
       "0                            0                             0   \n",
       "1                            0                             1   \n",
       "2                            0                             0   \n",
       "3                            1                             0   \n",
       "4                            0                             0   \n",
       "\n",
       "   make_model_Volkswagen - Polo  \n",
       "0                             0  \n",
       "1                             0  \n",
       "2                             0  \n",
       "3                             0  \n",
       "4                             0  \n",
       "\n",
       "[5 rows x 31 columns]"
      ]
     },
     "execution_count": 28,
     "metadata": {},
     "output_type": "execute_result"
    }
   ],
   "source": [
    "valid_categorical_cols = outlier_free_data[['standard_colour', 'body_type','fuel_type','make_model']]\n",
    "encoded_cols = pd.get_dummies(valid_categorical_cols)\n",
    "encoded_cols.head()"
   ]
  },
  {
   "cell_type": "code",
   "execution_count": 29,
   "id": "37593732",
   "metadata": {},
   "outputs": [
    {
     "data": {
      "text/html": [
       "<div>\n",
       "<style scoped>\n",
       "    .dataframe tbody tr th:only-of-type {\n",
       "        vertical-align: middle;\n",
       "    }\n",
       "\n",
       "    .dataframe tbody tr th {\n",
       "        vertical-align: top;\n",
       "    }\n",
       "\n",
       "    .dataframe thead th {\n",
       "        text-align: right;\n",
       "    }\n",
       "</style>\n",
       "<table border=\"1\" class=\"dataframe\">\n",
       "  <thead>\n",
       "    <tr style=\"text-align: right;\">\n",
       "      <th></th>\n",
       "      <th>standard_colour_Black</th>\n",
       "      <th>standard_colour_Blue</th>\n",
       "      <th>standard_colour_Grey</th>\n",
       "      <th>standard_colour_Silver</th>\n",
       "      <th>standard_colour_White</th>\n",
       "      <th>body_type_Coupe</th>\n",
       "      <th>body_type_Estate</th>\n",
       "      <th>body_type_Hatchback</th>\n",
       "      <th>body_type_SUV</th>\n",
       "      <th>body_type_Saloon</th>\n",
       "      <th>...</th>\n",
       "      <th>make_model_Nissan - Juke</th>\n",
       "      <th>make_model_Nissan - Qashqai</th>\n",
       "      <th>make_model_Renault - Clio</th>\n",
       "      <th>make_model_Toyota - Yaris</th>\n",
       "      <th>make_model_Vauxhall - Astra</th>\n",
       "      <th>make_model_Vauxhall - Corsa</th>\n",
       "      <th>make_model_Volkswagen - Golf</th>\n",
       "      <th>make_model_Volkswagen - Polo</th>\n",
       "      <th>mileage</th>\n",
       "      <th>price</th>\n",
       "    </tr>\n",
       "  </thead>\n",
       "  <tbody>\n",
       "    <tr>\n",
       "      <th>0</th>\n",
       "      <td>0</td>\n",
       "      <td>0</td>\n",
       "      <td>1</td>\n",
       "      <td>0</td>\n",
       "      <td>0</td>\n",
       "      <td>0</td>\n",
       "      <td>0</td>\n",
       "      <td>1</td>\n",
       "      <td>0</td>\n",
       "      <td>0</td>\n",
       "      <td>...</td>\n",
       "      <td>0</td>\n",
       "      <td>0</td>\n",
       "      <td>0</td>\n",
       "      <td>0</td>\n",
       "      <td>0</td>\n",
       "      <td>0</td>\n",
       "      <td>0</td>\n",
       "      <td>0</td>\n",
       "      <td>31534.0</td>\n",
       "      <td>19000</td>\n",
       "    </tr>\n",
       "    <tr>\n",
       "      <th>1</th>\n",
       "      <td>0</td>\n",
       "      <td>1</td>\n",
       "      <td>0</td>\n",
       "      <td>0</td>\n",
       "      <td>0</td>\n",
       "      <td>0</td>\n",
       "      <td>1</td>\n",
       "      <td>0</td>\n",
       "      <td>0</td>\n",
       "      <td>0</td>\n",
       "      <td>...</td>\n",
       "      <td>0</td>\n",
       "      <td>0</td>\n",
       "      <td>0</td>\n",
       "      <td>0</td>\n",
       "      <td>0</td>\n",
       "      <td>0</td>\n",
       "      <td>1</td>\n",
       "      <td>0</td>\n",
       "      <td>52023.0</td>\n",
       "      <td>13500</td>\n",
       "    </tr>\n",
       "    <tr>\n",
       "      <th>2</th>\n",
       "      <td>0</td>\n",
       "      <td>0</td>\n",
       "      <td>1</td>\n",
       "      <td>0</td>\n",
       "      <td>0</td>\n",
       "      <td>0</td>\n",
       "      <td>0</td>\n",
       "      <td>0</td>\n",
       "      <td>0</td>\n",
       "      <td>1</td>\n",
       "      <td>...</td>\n",
       "      <td>0</td>\n",
       "      <td>0</td>\n",
       "      <td>0</td>\n",
       "      <td>0</td>\n",
       "      <td>0</td>\n",
       "      <td>0</td>\n",
       "      <td>0</td>\n",
       "      <td>0</td>\n",
       "      <td>29500.0</td>\n",
       "      <td>9495</td>\n",
       "    </tr>\n",
       "    <tr>\n",
       "      <th>3</th>\n",
       "      <td>0</td>\n",
       "      <td>0</td>\n",
       "      <td>1</td>\n",
       "      <td>0</td>\n",
       "      <td>0</td>\n",
       "      <td>0</td>\n",
       "      <td>0</td>\n",
       "      <td>1</td>\n",
       "      <td>0</td>\n",
       "      <td>0</td>\n",
       "      <td>...</td>\n",
       "      <td>0</td>\n",
       "      <td>0</td>\n",
       "      <td>0</td>\n",
       "      <td>0</td>\n",
       "      <td>0</td>\n",
       "      <td>1</td>\n",
       "      <td>0</td>\n",
       "      <td>0</td>\n",
       "      <td>35300.0</td>\n",
       "      <td>7293</td>\n",
       "    </tr>\n",
       "    <tr>\n",
       "      <th>4</th>\n",
       "      <td>1</td>\n",
       "      <td>0</td>\n",
       "      <td>0</td>\n",
       "      <td>0</td>\n",
       "      <td>0</td>\n",
       "      <td>0</td>\n",
       "      <td>0</td>\n",
       "      <td>0</td>\n",
       "      <td>1</td>\n",
       "      <td>0</td>\n",
       "      <td>...</td>\n",
       "      <td>0</td>\n",
       "      <td>1</td>\n",
       "      <td>0</td>\n",
       "      <td>0</td>\n",
       "      <td>0</td>\n",
       "      <td>0</td>\n",
       "      <td>0</td>\n",
       "      <td>0</td>\n",
       "      <td>47299.0</td>\n",
       "      <td>11500</td>\n",
       "    </tr>\n",
       "    <tr>\n",
       "      <th>...</th>\n",
       "      <td>...</td>\n",
       "      <td>...</td>\n",
       "      <td>...</td>\n",
       "      <td>...</td>\n",
       "      <td>...</td>\n",
       "      <td>...</td>\n",
       "      <td>...</td>\n",
       "      <td>...</td>\n",
       "      <td>...</td>\n",
       "      <td>...</td>\n",
       "      <td>...</td>\n",
       "      <td>...</td>\n",
       "      <td>...</td>\n",
       "      <td>...</td>\n",
       "      <td>...</td>\n",
       "      <td>...</td>\n",
       "      <td>...</td>\n",
       "      <td>...</td>\n",
       "      <td>...</td>\n",
       "      <td>...</td>\n",
       "      <td>...</td>\n",
       "    </tr>\n",
       "    <tr>\n",
       "      <th>96264</th>\n",
       "      <td>0</td>\n",
       "      <td>0</td>\n",
       "      <td>0</td>\n",
       "      <td>0</td>\n",
       "      <td>1</td>\n",
       "      <td>0</td>\n",
       "      <td>0</td>\n",
       "      <td>0</td>\n",
       "      <td>0</td>\n",
       "      <td>1</td>\n",
       "      <td>...</td>\n",
       "      <td>0</td>\n",
       "      <td>0</td>\n",
       "      <td>0</td>\n",
       "      <td>0</td>\n",
       "      <td>0</td>\n",
       "      <td>0</td>\n",
       "      <td>0</td>\n",
       "      <td>0</td>\n",
       "      <td>28225.0</td>\n",
       "      <td>18499</td>\n",
       "    </tr>\n",
       "    <tr>\n",
       "      <th>96265</th>\n",
       "      <td>0</td>\n",
       "      <td>0</td>\n",
       "      <td>0</td>\n",
       "      <td>1</td>\n",
       "      <td>0</td>\n",
       "      <td>0</td>\n",
       "      <td>0</td>\n",
       "      <td>0</td>\n",
       "      <td>0</td>\n",
       "      <td>1</td>\n",
       "      <td>...</td>\n",
       "      <td>0</td>\n",
       "      <td>0</td>\n",
       "      <td>0</td>\n",
       "      <td>0</td>\n",
       "      <td>0</td>\n",
       "      <td>0</td>\n",
       "      <td>0</td>\n",
       "      <td>0</td>\n",
       "      <td>122000.0</td>\n",
       "      <td>1990</td>\n",
       "    </tr>\n",
       "    <tr>\n",
       "      <th>96266</th>\n",
       "      <td>0</td>\n",
       "      <td>0</td>\n",
       "      <td>0</td>\n",
       "      <td>1</td>\n",
       "      <td>0</td>\n",
       "      <td>0</td>\n",
       "      <td>0</td>\n",
       "      <td>1</td>\n",
       "      <td>0</td>\n",
       "      <td>0</td>\n",
       "      <td>...</td>\n",
       "      <td>0</td>\n",
       "      <td>0</td>\n",
       "      <td>0</td>\n",
       "      <td>0</td>\n",
       "      <td>0</td>\n",
       "      <td>1</td>\n",
       "      <td>0</td>\n",
       "      <td>0</td>\n",
       "      <td>45000.0</td>\n",
       "      <td>5000</td>\n",
       "    </tr>\n",
       "    <tr>\n",
       "      <th>96267</th>\n",
       "      <td>0</td>\n",
       "      <td>0</td>\n",
       "      <td>1</td>\n",
       "      <td>0</td>\n",
       "      <td>0</td>\n",
       "      <td>0</td>\n",
       "      <td>0</td>\n",
       "      <td>0</td>\n",
       "      <td>1</td>\n",
       "      <td>0</td>\n",
       "      <td>...</td>\n",
       "      <td>1</td>\n",
       "      <td>0</td>\n",
       "      <td>0</td>\n",
       "      <td>0</td>\n",
       "      <td>0</td>\n",
       "      <td>0</td>\n",
       "      <td>0</td>\n",
       "      <td>0</td>\n",
       "      <td>4075.0</td>\n",
       "      <td>18000</td>\n",
       "    </tr>\n",
       "    <tr>\n",
       "      <th>96268</th>\n",
       "      <td>0</td>\n",
       "      <td>0</td>\n",
       "      <td>0</td>\n",
       "      <td>0</td>\n",
       "      <td>1</td>\n",
       "      <td>0</td>\n",
       "      <td>0</td>\n",
       "      <td>0</td>\n",
       "      <td>1</td>\n",
       "      <td>0</td>\n",
       "      <td>...</td>\n",
       "      <td>0</td>\n",
       "      <td>1</td>\n",
       "      <td>0</td>\n",
       "      <td>0</td>\n",
       "      <td>0</td>\n",
       "      <td>0</td>\n",
       "      <td>0</td>\n",
       "      <td>0</td>\n",
       "      <td>52760.0</td>\n",
       "      <td>7250</td>\n",
       "    </tr>\n",
       "  </tbody>\n",
       "</table>\n",
       "<p>91909 rows × 33 columns</p>\n",
       "</div>"
      ],
      "text/plain": [
       "       standard_colour_Black  standard_colour_Blue  standard_colour_Grey  \\\n",
       "0                          0                     0                     1   \n",
       "1                          0                     1                     0   \n",
       "2                          0                     0                     1   \n",
       "3                          0                     0                     1   \n",
       "4                          1                     0                     0   \n",
       "...                      ...                   ...                   ...   \n",
       "96264                      0                     0                     0   \n",
       "96265                      0                     0                     0   \n",
       "96266                      0                     0                     0   \n",
       "96267                      0                     0                     1   \n",
       "96268                      0                     0                     0   \n",
       "\n",
       "       standard_colour_Silver  standard_colour_White  body_type_Coupe  \\\n",
       "0                           0                      0                0   \n",
       "1                           0                      0                0   \n",
       "2                           0                      0                0   \n",
       "3                           0                      0                0   \n",
       "4                           0                      0                0   \n",
       "...                       ...                    ...              ...   \n",
       "96264                       0                      1                0   \n",
       "96265                       1                      0                0   \n",
       "96266                       1                      0                0   \n",
       "96267                       0                      0                0   \n",
       "96268                       0                      1                0   \n",
       "\n",
       "       body_type_Estate  body_type_Hatchback  body_type_SUV  body_type_Saloon  \\\n",
       "0                     0                    1              0                 0   \n",
       "1                     1                    0              0                 0   \n",
       "2                     0                    0              0                 1   \n",
       "3                     0                    1              0                 0   \n",
       "4                     0                    0              1                 0   \n",
       "...                 ...                  ...            ...               ...   \n",
       "96264                 0                    0              0                 1   \n",
       "96265                 0                    0              0                 1   \n",
       "96266                 0                    1              0                 0   \n",
       "96267                 0                    0              1                 0   \n",
       "96268                 0                    0              1                 0   \n",
       "\n",
       "       ...  make_model_Nissan - Juke  make_model_Nissan - Qashqai  \\\n",
       "0      ...                         0                            0   \n",
       "1      ...                         0                            0   \n",
       "2      ...                         0                            0   \n",
       "3      ...                         0                            0   \n",
       "4      ...                         0                            1   \n",
       "...    ...                       ...                          ...   \n",
       "96264  ...                         0                            0   \n",
       "96265  ...                         0                            0   \n",
       "96266  ...                         0                            0   \n",
       "96267  ...                         1                            0   \n",
       "96268  ...                         0                            1   \n",
       "\n",
       "       make_model_Renault - Clio  make_model_Toyota - Yaris  \\\n",
       "0                              0                          0   \n",
       "1                              0                          0   \n",
       "2                              0                          0   \n",
       "3                              0                          0   \n",
       "4                              0                          0   \n",
       "...                          ...                        ...   \n",
       "96264                          0                          0   \n",
       "96265                          0                          0   \n",
       "96266                          0                          0   \n",
       "96267                          0                          0   \n",
       "96268                          0                          0   \n",
       "\n",
       "       make_model_Vauxhall - Astra  make_model_Vauxhall - Corsa  \\\n",
       "0                                0                            0   \n",
       "1                                0                            0   \n",
       "2                                0                            0   \n",
       "3                                0                            1   \n",
       "4                                0                            0   \n",
       "...                            ...                          ...   \n",
       "96264                            0                            0   \n",
       "96265                            0                            0   \n",
       "96266                            0                            1   \n",
       "96267                            0                            0   \n",
       "96268                            0                            0   \n",
       "\n",
       "       make_model_Volkswagen - Golf  make_model_Volkswagen - Polo   mileage  \\\n",
       "0                                 0                             0   31534.0   \n",
       "1                                 1                             0   52023.0   \n",
       "2                                 0                             0   29500.0   \n",
       "3                                 0                             0   35300.0   \n",
       "4                                 0                             0   47299.0   \n",
       "...                             ...                           ...       ...   \n",
       "96264                             0                             0   28225.0   \n",
       "96265                             0                             0  122000.0   \n",
       "96266                             0                             0   45000.0   \n",
       "96267                             0                             0    4075.0   \n",
       "96268                             0                             0   52760.0   \n",
       "\n",
       "       price  \n",
       "0      19000  \n",
       "1      13500  \n",
       "2       9495  \n",
       "3       7293  \n",
       "4      11500  \n",
       "...      ...  \n",
       "96264  18499  \n",
       "96265   1990  \n",
       "96266   5000  \n",
       "96267  18000  \n",
       "96268   7250  \n",
       "\n",
       "[91909 rows x 33 columns]"
      ]
     },
     "execution_count": 29,
     "metadata": {},
     "output_type": "execute_result"
    }
   ],
   "source": [
    "complete_data = pd.concat([encoded_cols, outlier_free_data[['mileage', \"price\"]]], axis = 1)\n",
    "complete_data"
   ]
  },
  {
   "cell_type": "code",
   "execution_count": 30,
   "id": "295f5258",
   "metadata": {},
   "outputs": [],
   "source": [
    "X = X.apply(pd.to_numeric, errors='coerce')\n",
    "y = y.apply(pd.to_numeric, errors='coerce')"
   ]
  },
  {
   "cell_type": "code",
   "execution_count": 31,
   "id": "12b8b555",
   "metadata": {},
   "outputs": [],
   "source": [
    "X.fillna(0, inplace=True)\n",
    "y.fillna(0, inplace=True)"
   ]
  },
  {
   "cell_type": "markdown",
   "id": "7aa73fc8",
   "metadata": {},
   "source": [
    "### Splitting the data\n",
    "\n",
    "Splitting the data into test and train set using library, the ratio being 80% Training data and 20% Test data."
   ]
  },
  {
   "cell_type": "code",
   "execution_count": 32,
   "id": "7bdc78ec",
   "metadata": {},
   "outputs": [
    {
     "name": "stdout",
     "output_type": "stream",
     "text": [
      "(73527, 13) (18382, 13) (73527,) (18382,)\n"
     ]
    }
   ],
   "source": [
    "X_train, X_test, y_train, y_test = train_test_split(X, y, test_size=0.20, random_state=40)\n",
    "print(X_train.shape, X_test.shape, y_train.shape, y_test.shape)"
   ]
  },
  {
   "cell_type": "code",
   "execution_count": 33,
   "id": "b6e3bbca",
   "metadata": {},
   "outputs": [
    {
     "data": {
      "text/plain": [
       "<91909x133180 sparse matrix of type '<class 'numpy.float64'>'\n",
       "\twith 1194817 stored elements in Compressed Sparse Row format>"
      ]
     },
     "execution_count": 33,
     "metadata": {},
     "output_type": "execute_result"
    }
   ],
   "source": [
    "scaler = OneHotEncoder(handle_unknown='ignore')\n",
    "scaler.fit_transform(X)"
   ]
  },
  {
   "cell_type": "markdown",
   "id": "67c4c948",
   "metadata": {},
   "source": [
    "### **4. Models Building and Evaluation**"
   ]
  },
  {
   "cell_type": "markdown",
   "id": "c1a829fb",
   "metadata": {},
   "source": [
    "### Model selection and tuning\n",
    "\n",
    "We can also try different machine learning models to improve performance. Each algorithm has different strengths and weaknesses, and so we need to select the algorithm that works best with \n",
    "our specific data. We will use the Scikit-learn library to compare the performance of the following algorithms:\n",
    "\n",
    "* [LinearRegression](https://scikit-learn.org/stable/modules/generated/sklearn.linear_model.LinearRegression.html) - Linear regression\n",
    "* [RandomForestRegressor](https://scikit-learn.org/stable/modules/generated/sklearn.ensemble.RandomForestRegressor.html) - Random Forest Regressor.\n",
    "* [Ridge Regressor](https://scikit-learn.org/stable/modules/generated/sklearn.linear_model.Ridge.html) - Ridge Regressor\n",
    "* [Lasso Regressor](https://scikit-learn.org/stable/modules/generated/sklearn.linear_model.Lasso.html) - Lasso Regressor\n",
    "\n",
    "We will be giving more detailed information on Linear Regression and Random Forest Regresson only becacause there is little difference between Linear Regression, Ridge Regresson and Lasso Regresson"
   ]
  },
  {
   "cell_type": "markdown",
   "id": "c7b8aee4",
   "metadata": {},
   "source": [
    "### Linear regression"
   ]
  },
  {
   "cell_type": "code",
   "execution_count": 34,
   "id": "1663b9d5",
   "metadata": {},
   "outputs": [],
   "source": [
    "model = LinearRegression()"
   ]
  },
  {
   "cell_type": "code",
   "execution_count": 35,
   "id": "e804c07a",
   "metadata": {},
   "outputs": [
    {
     "data": {
      "text/plain": [
       "LinearRegression()"
      ]
     },
     "execution_count": 35,
     "metadata": {},
     "output_type": "execute_result"
    }
   ],
   "source": [
    "model.fit(X_train, y_train)"
   ]
  },
  {
   "cell_type": "code",
   "execution_count": 36,
   "id": "93643ac3",
   "metadata": {},
   "outputs": [
    {
     "data": {
      "text/plain": [
       "array([12472.86499912,  9571.46569135, 14659.52644279, ...,\n",
       "       14679.09168914,  6247.08228409, 18524.37274458])"
      ]
     },
     "execution_count": 36,
     "metadata": {},
     "output_type": "execute_result"
    }
   ],
   "source": [
    "y_pred = model.predict(X_test)\n",
    "y_pred"
   ]
  },
  {
   "cell_type": "code",
   "execution_count": 37,
   "id": "e78d06ef",
   "metadata": {},
   "outputs": [
    {
     "name": "stdout",
     "output_type": "stream",
     "text": [
      "Mean Absolute Error: 3191.863452420912\n",
      "Mean Squared Error: 16802946.914066438\n",
      "Root Mean Squared Error: 4099.139777327243\n",
      "R2 score : 0.565835\n"
     ]
    }
   ],
   "source": [
    "print('Mean Absolute Error:', metrics.mean_absolute_error(y_test, y_pred))\n",
    "print('Mean Squared Error:', metrics.mean_squared_error(y_test, y_pred))\n",
    "print('Root Mean Squared Error:', np.sqrt(metrics.mean_squared_error(y_test, y_pred)))\n",
    "print(\"R2 score : %f\" % r2_score(y_test,y_pred))"
   ]
  },
  {
   "cell_type": "code",
   "execution_count": 38,
   "id": "2cf2ceca",
   "metadata": {},
   "outputs": [
    {
     "data": {
      "image/png": "[encoded data removed]",
      "text/plain": [
       "<Figure size 432x288 with 1 Axes>"
      ]
     },
     "metadata": {},
     "output_type": "display_data"
    }
   ],
   "source": [
    "# Error terms\n",
    "\n",
    "error = [i for i in range(len(y_pred))]\n",
    "fig = plt.figure()\n",
    "plt.plot(error,y_test-y_pred, color=\"blue\", linewidth=2.5, linestyle=\"-\")\n",
    "fig.suptitle('Error Terms', fontsize=20)               \n",
    "plt.xlabel('Index', fontsize=18)                      \n",
    "plt.ylabel('ytest-ypred', fontsize=16)                \n",
    "plt.show()"
   ]
  },
  {
   "cell_type": "markdown",
   "id": "bacfb7dd",
   "metadata": {},
   "source": [
    "### Plotting the error terms to understand the distribution."
   ]
  },
  {
   "cell_type": "code",
   "execution_count": 39,
   "id": "ac6ebbcf",
   "metadata": {},
   "outputs": [
    {
     "name": "stderr",
     "output_type": "stream",
     "text": [
      "C:\\Users\\DELL\\anaconda3\\lib\\site-packages\\seaborn\\distributions.py:2619: FutureWarning: `distplot` is a deprecated function and will be removed in a future version. Please adapt your code to use either `displot` (a figure-level function with similar flexibility) or `histplot` (an axes-level function for histograms).\n",
      "  warnings.warn(msg, FutureWarning)\n"
     ]
    },
    {
     "data": {
      "image/png": "[encoded data removed]",
      "text/plain": [
       "<Figure size 432x288 with 1 Axes>"
      ]
     },
     "metadata": {},
     "output_type": "display_data"
    }
   ],
   "source": [
    "fig = plt.figure()\n",
    "sns.distplot((y_test-y_pred),bins=50)\n",
    "fig.suptitle('Error Terms', fontsize=20)                   \n",
    "plt.xlabel('y_test-y_pred', fontsize=18)                  \n",
    "plt.ylabel('Index', fontsize=16)                          \n",
    "plt.show()"
   ]
  },
  {
   "cell_type": "code",
   "execution_count": 40,
   "id": "0f819cfe",
   "metadata": {},
   "outputs": [
    {
     "data": {
      "text/plain": [
       "<matplotlib.collections.PathCollection at 0x1dcd8c40e80>"
      ]
     },
     "execution_count": 40,
     "metadata": {},
     "output_type": "execute_result"
    },
    {
     "data": {
      "image/png": "[encoded data removed]",
      "text/plain": [
       "<Figure size 432x288 with 1 Axes>"
      ]
     },
     "metadata": {},
     "output_type": "display_data"
    }
   ],
   "source": [
    "plt.scatter(y_test,y_pred)"
   ]
  },
  {
   "cell_type": "markdown",
   "id": "b6446a83",
   "metadata": {},
   "source": [
    "### Random Forest Regressor"
   ]
  },
  {
   "cell_type": "code",
   "execution_count": 41,
   "id": "87a231cb",
   "metadata": {},
   "outputs": [
    {
     "data": {
      "text/plain": [
       "RandomForestRegressor()"
      ]
     },
     "execution_count": 41,
     "metadata": {},
     "output_type": "execute_result"
    }
   ],
   "source": [
    "random_forest_regressor=RandomForestRegressor()\n",
    "random_forest_regressor.fit(X_train,y_train)"
   ]
  },
  {
   "cell_type": "code",
   "execution_count": 42,
   "id": "3c11e93e",
   "metadata": {},
   "outputs": [
    {
     "data": {
      "text/plain": [
       "array([11084.925     ,  8689.43      , 14629.47458333, ...,\n",
       "       14531.88229167,  7360.75175   , 19199.85744235])"
      ]
     },
     "execution_count": 42,
     "metadata": {},
     "output_type": "execute_result"
    }
   ],
   "source": [
    "model2 = RandomForestRegressor(n_estimators=400)\n",
    "model2.fit(X_train, y_train)\n",
    "y_pred2 = model2.predict(X_test)\n",
    "y_pred2"
   ]
  },
  {
   "cell_type": "code",
   "execution_count": 43,
   "id": "2a0332da",
   "metadata": {},
   "outputs": [
    {
     "name": "stdout",
     "output_type": "stream",
     "text": [
      "Mean Absolute Error: 3192.305237745663\n",
      "Mean Squared Error: 17875189.56700304\n",
      "Root Mean Squared Error: 4227.906049926257\n",
      "R2 score : 0.538130\n"
     ]
    }
   ],
   "source": [
    "print('Mean Absolute Error:', metrics.mean_absolute_error(y_test, y_pred2))\n",
    "print('Mean Squared Error:', metrics.mean_squared_error(y_test, y_pred2))\n",
    "print('Root Mean Squared Error:', np.sqrt(metrics.mean_squared_error(y_test, y_pred2)))\n",
    "print(\"R2 score : %f\" % r2_score(y_test,y_pred2))"
   ]
  },
  {
   "cell_type": "code",
   "execution_count": 44,
   "id": "8f937e86",
   "metadata": {},
   "outputs": [
    {
     "data": {
      "image/png": "[encoded data removed]",
      "text/plain": [
       "<Figure size 432x288 with 1 Axes>"
      ]
     },
     "metadata": {},
     "output_type": "display_data"
    }
   ],
   "source": [
    "# Error terms\n",
    "\n",
    "error = [i for i in range(len(y_pred2))]\n",
    "fig = plt.figure()\n",
    "plt.plot(error,y_test-y_pred2, color=\"blue\", linewidth=2.5, linestyle=\"-\")\n",
    "fig.suptitle('Error Terms', fontsize=20)               \n",
    "plt.xlabel('Index', fontsize=18)                      \n",
    "plt.ylabel('ytest-ypred2', fontsize=16)                \n",
    "plt.show()"
   ]
  },
  {
   "cell_type": "markdown",
   "id": "4a29402a",
   "metadata": {},
   "source": [
    "### Plotting the error terms to understand the distribution."
   ]
  },
  {
   "cell_type": "code",
   "execution_count": 45,
   "id": "f48b2ce5",
   "metadata": {},
   "outputs": [
    {
     "name": "stderr",
     "output_type": "stream",
     "text": [
      "C:\\Users\\DELL\\anaconda3\\lib\\site-packages\\seaborn\\distributions.py:2619: FutureWarning: `distplot` is a deprecated function and will be removed in a future version. Please adapt your code to use either `displot` (a figure-level function with similar flexibility) or `histplot` (an axes-level function for histograms).\n",
      "  warnings.warn(msg, FutureWarning)\n"
     ]
    },
    {
     "data": {
      "image/png": "[encoded data removed]",
      "text/plain": [
       "<Figure size 432x288 with 1 Axes>"
      ]
     },
     "metadata": {},
     "output_type": "display_data"
    }
   ],
   "source": [
    "fig = plt.figure()\n",
    "sns.distplot((y_test-y_pred2),bins=50)\n",
    "fig.suptitle('Error Terms', fontsize=20)                   \n",
    "plt.xlabel('y_test-y_pred2', fontsize=18)                  \n",
    "plt.ylabel('Index', fontsize=16)                          \n",
    "plt.show()"
   ]
  },
  {
   "cell_type": "code",
   "execution_count": 46,
   "id": "a8e80f72",
   "metadata": {},
   "outputs": [
    {
     "data": {
      "text/plain": [
       "<matplotlib.collections.PathCollection at 0x1dc83bfa730>"
      ]
     },
     "execution_count": 46,
     "metadata": {},
     "output_type": "execute_result"
    },
    {
     "data": {
      "image/png": "[encoded data removed]",
      "text/plain": [
       "<Figure size 432x288 with 1 Axes>"
      ]
     },
     "metadata": {},
     "output_type": "display_data"
    }
   ],
   "source": [
    "plt.scatter(y_test,y_pred2)"
   ]
  },
  {
   "cell_type": "markdown",
   "id": "ae1a9190",
   "metadata": {},
   "source": [
    "### Ridge Regressor"
   ]
  },
  {
   "cell_type": "code",
   "execution_count": 47,
   "id": "0f2b5edd",
   "metadata": {},
   "outputs": [
    {
     "name": "stderr",
     "output_type": "stream",
     "text": [
      "C:\\Users\\DELL\\anaconda3\\lib\\site-packages\\sklearn\\linear_model\\_ridge.py:147: LinAlgWarning: Ill-conditioned matrix (rcond=1.07325e-25): result may not be accurate.\n",
      "  return linalg.solve(A, Xy, sym_pos=True,\n"
     ]
    }
   ],
   "source": [
    "model3 = Ridge(alpha=1.0)\n",
    "model3.fit(X_train, y_train)\n",
    "y_pred3 = model3.predict(X_test)"
   ]
  },
  {
   "cell_type": "code",
   "execution_count": 48,
   "id": "af6d41e3",
   "metadata": {},
   "outputs": [
    {
     "name": "stdout",
     "output_type": "stream",
     "text": [
      "Mean Absolute Error: 3191.8634754609907\n",
      "Mean Squared Error: 16802947.120478284\n",
      "Root Mean Squared Error: 4099.139802504702\n",
      "R2 score : 0.565835\n"
     ]
    }
   ],
   "source": [
    "print('Mean Absolute Error:', metrics.mean_absolute_error(y_test, y_pred3))\n",
    "print('Mean Squared Error:', metrics.mean_squared_error(y_test, y_pred3))\n",
    "print('Root Mean Squared Error:', np.sqrt(metrics.mean_squared_error(y_test, y_pred3)))\n",
    "print(\"R2 score : %f\" % r2_score(y_test,y_pred3))"
   ]
  },
  {
   "cell_type": "code",
   "execution_count": 49,
   "id": "b0721ade",
   "metadata": {},
   "outputs": [
    {
     "data": {
      "image/png": "[encoded data removed]",
      "text/plain": [
       "<Figure size 432x288 with 1 Axes>"
      ]
     },
     "metadata": {},
     "output_type": "display_data"
    }
   ],
   "source": [
    "# Error terms\n",
    "\n",
    "error = [i for i in range(len(y_pred3))]\n",
    "fig = plt.figure()\n",
    "plt.plot(error,y_test-y_pred3, color=\"blue\", linewidth=2.5, linestyle=\"-\")\n",
    "fig.suptitle('Error Terms', fontsize=20)               \n",
    "plt.xlabel('Index', fontsize=18)                      \n",
    "plt.ylabel('ytest-ypred3', fontsize=16)                \n",
    "plt.show()"
   ]
  },
  {
   "cell_type": "markdown",
   "id": "8a55b945",
   "metadata": {},
   "source": [
    "### Plotting the error terms to understand the distribution."
   ]
  },
  {
   "cell_type": "code",
   "execution_count": 50,
   "id": "1204f234",
   "metadata": {},
   "outputs": [
    {
     "name": "stderr",
     "output_type": "stream",
     "text": [
      "C:\\Users\\DELL\\anaconda3\\lib\\site-packages\\seaborn\\distributions.py:2619: FutureWarning: `distplot` is a deprecated function and will be removed in a future version. Please adapt your code to use either `displot` (a figure-level function with similar flexibility) or `histplot` (an axes-level function for histograms).\n",
      "  warnings.warn(msg, FutureWarning)\n"
     ]
    },
    {
     "data": {
      "image/png": "[encoded data removed]",
      "text/plain": [
       "<Figure size 432x288 with 1 Axes>"
      ]
     },
     "metadata": {},
     "output_type": "display_data"
    }
   ],
   "source": [
    "fig = plt.figure()\n",
    "sns.distplot((y_test-y_pred3),bins=50)\n",
    "fig.suptitle('Error Terms', fontsize=20)                   \n",
    "plt.xlabel('y_test-y_pred3', fontsize=18)                  \n",
    "plt.ylabel('Index', fontsize=16)                          \n",
    "plt.show()"
   ]
  },
  {
   "cell_type": "markdown",
   "id": "28b2e1a1",
   "metadata": {},
   "source": [
    "### Lasso Regressor"
   ]
  },
  {
   "cell_type": "code",
   "execution_count": 51,
   "id": "84dd7493",
   "metadata": {},
   "outputs": [],
   "source": [
    "model4 = Lasso(alpha=1.0)\n",
    "model4.fit(X_train, y_train)\n",
    "y_pred4 = model4.predict(X_test)"
   ]
  },
  {
   "cell_type": "code",
   "execution_count": 52,
   "id": "af4d3ba4",
   "metadata": {},
   "outputs": [
    {
     "name": "stdout",
     "output_type": "stream",
     "text": [
      "Mean Absolute Error: 3191.8674697954616\n",
      "Mean Squared Error: 16802981.53215776\n",
      "Root Mean Squared Error: 4099.143999929468\n",
      "R2 score : 0.565834\n"
     ]
    }
   ],
   "source": [
    "print('Mean Absolute Error:', metrics.mean_absolute_error(y_test, y_pred4))\n",
    "print('Mean Squared Error:', metrics.mean_squared_error(y_test, y_pred4))\n",
    "print('Root Mean Squared Error:', np.sqrt(metrics.mean_squared_error(y_test, y_pred4)))\n",
    "print(\"R2 score : %f\" % r2_score(y_test,y_pred4))"
   ]
  },
  {
   "cell_type": "code",
   "execution_count": 53,
   "id": "b6b51b94",
   "metadata": {},
   "outputs": [
    {
     "data": {
      "image/png": "[encoded data removed]",
      "text/plain": [
       "<Figure size 432x288 with 1 Axes>"
      ]
     },
     "metadata": {},
     "output_type": "display_data"
    }
   ],
   "source": [
    "# Error terms\n",
    "\n",
    "error = [i for i in range(len(y_pred4))]\n",
    "fig = plt.figure()\n",
    "plt.plot(error,y_test-y_pred4, color=\"blue\", linewidth=2.5, linestyle=\"-\")\n",
    "fig.suptitle('Error Terms', fontsize=20)               \n",
    "plt.xlabel('Index', fontsize=18)                      \n",
    "plt.ylabel('ytest-ypred4', fontsize=16)                \n",
    "plt.show()"
   ]
  },
  {
   "cell_type": "code",
   "execution_count": 54,
   "id": "d628d08b",
   "metadata": {},
   "outputs": [
    {
     "name": "stderr",
     "output_type": "stream",
     "text": [
      "C:\\Users\\DELL\\anaconda3\\lib\\site-packages\\seaborn\\distributions.py:2619: FutureWarning: `distplot` is a deprecated function and will be removed in a future version. Please adapt your code to use either `displot` (a figure-level function with similar flexibility) or `histplot` (an axes-level function for histograms).\n",
      "  warnings.warn(msg, FutureWarning)\n"
     ]
    },
    {
     "data": {
      "image/png": "[encoded data removed]",
      "text/plain": [
       "<Figure size 432x288 with 1 Axes>"
      ]
     },
     "metadata": {},
     "output_type": "display_data"
    }
   ],
   "source": [
    "fig = plt.figure()\n",
    "sns.distplot((y_test-y_pred4),bins=50)\n",
    "fig.suptitle('Error Terms', fontsize=20)                   \n",
    "plt.xlabel('y_test-y_pred4', fontsize=18)                  \n",
    "plt.ylabel('Index', fontsize=16)                          \n",
    "plt.show()"
   ]
  },
  {
   "cell_type": "markdown",
   "id": "d0007c81",
   "metadata": {},
   "source": [
    "### **5. Conclusion**\n",
    "\n",
    "The error terms are normally distributed with mean approximately 0.\n",
    "\n",
    "The overall best performing model and parameters for VehicleTrader according to the models above is the `Linear Regression with R2 score of 56.5%.\n",
    "\n",
    "Although `Ridge` and `Lason` with `R2 score of 56.5%` works but a more accurate `R2 score` is the `Linear Regression` and it is the most used and recognized among the models.  \n",
    "\n",
    "Ridge result may not be accurate, therefore, `VehicleTrader` in `real world usage` of this results would do best to give equal trials to both `Linear` and `Lason` to see the response of both models to day to day real world data, and further \n",
    "know the model with the best performance.\n",
    "\n",
    "`Random Forest Regressor`  with R2 score of 53.8% seemed to perform the worst compared to the other models. "
   ]
  }
 ],
 "metadata": {
  "kernelspec": {
   "display_name": "Python 3 (ipykernel)",
   "language": "python",
   "name": "python3"
  },
  "language_info": {
   "codemirror_mode": {
    "name": "ipython",
    "version": 3
   },
   "file_extension": ".py",
   "mimetype": "text/x-python",
   "name": "python",
   "nbconvert_exporter": "python",
   "pygments_lexer": "ipython3",
   "version": "3.9.7"
  }
 },
 "nbformat": 4,
 "nbformat_minor": 5
}
